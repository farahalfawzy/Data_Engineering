{
 "cells": [
  {
   "cell_type": "markdown",
   "metadata": {},
   "source": [
    "## Part 1: Loading the dataset"
   ]
  },
  {
   "cell_type": "code",
   "execution_count": 60,
   "metadata": {},
   "outputs": [],
   "source": [
    "from pyspark.sql import SparkSession\n",
    "\n",
    "# Initialize Spark session\n",
    "spark = SparkSession.builder.appName(\"Milestone3\").getOrCreate()\n",
    "lookup=[]"
   ]
  },
  {
   "cell_type": "code",
   "execution_count": 61,
   "metadata": {},
   "outputs": [],
   "source": [
    "from pyspark.sql.window import Window\n",
    "from pyspark.sql.functions import col, lag, regexp_replace,when,min,max,to_date,datediff\n",
    "from pyspark.ml.feature import  StringIndexer\n",
    "\n"
   ]
  },
  {
   "cell_type": "code",
   "execution_count": 62,
   "metadata": {},
   "outputs": [],
   "source": [
    "df = spark.read.parquet('data/fintech_data_31_52_0324.parquet')\n"
   ]
  },
  {
   "cell_type": "code",
   "execution_count": 63,
   "metadata": {},
   "outputs": [
    {
     "name": "stderr",
     "output_type": "stream",
     "text": [
      "                                                                                \r"
     ]
    },
    {
     "name": "stdout",
     "output_type": "stream",
     "text": [
      "+--------------------+--------------------+----------+--------------+----------+----------------+-------------------+--------+----------+-----------+-----------+-------+---------------+-----------+-----+-------------+----------+--------+-----+-----------------+----------+----------+------------------+--------------------+\n",
      "|         Customer Id|           Emp Title|Emp Length|Home Ownership|Annual Inc|Annual Inc Joint|Verification Status|Zip Code|Addr State|Avg Cur Bal|Tot Cur Bal|Loan Id|    Loan Status|Loan Amount|State|Funded Amount|      Term|Int Rate|Grade|       Issue Date|Pymnt Plan|      Type|           Purpose|         Description|\n",
      "+--------------------+--------------------+----------+--------------+----------+----------------+-------------------+--------+----------+-----------+-----------+-------+---------------+-----------+-----+-------------+----------+--------+-----+-----------------+----------+----------+------------------+--------------------+\n",
      "|YicyXHhkMVx4ODVce...|     Project Manager|   3 years|      MORTGAGE|  110000.0|            NULL|       Not Verified|   085xx|        NJ|    36486.0|   255401.0|  83748|        Current|    10000.0|   NJ|      10000.0| 36 months|  0.0646|    2|  19 January 2019|     false|Individual|debt_consolidation|  Debt consolidation|\n",
      "|YiJceGU4XHhlZTNce...|       IT supervisor|   3 years|      MORTGAGE|   66000.0|            NULL|           Verified|   477xx|        IN|    36558.0|   182789.0| 142833|        Current|    14400.0|   IN|      14400.0| 60 months|  0.1262|   11|17 September 2017|     false|Individual|debt_consolidation|  Debt consolidation|\n",
      "|Yid9XHhiOFx4MTVce...|    Project Engineer|    1 year|      MORTGAGE|   79000.0|            NULL|    Source Verified|   993xx|        WA|    37390.0|   299117.0| 201119|     Fully Paid|    20000.0|   WA|      20000.0| 60 months|  0.1899|   16|    17 March 2017|     false|Individual|debt_consolidation|  Debt consolidation|\n",
      "|YidceDhhXHhlM15ce...|              Driver| 10+ years|      MORTGAGE|   40000.0|            NULL|    Source Verified|   626xx|        IL|     5160.0|    46437.0|  86602|        Current|    10000.0|   IL|      10000.0| 36 months|  0.0808|    2|     18 June 2018|     false|Individual|       credit_card|Credit card refin...|\n",
      "|YidceGMxaVx4ODNce...|            delivery|   4 years|          RENT|   33000.0|            NULL|    Source Verified|   166xx|        PA|    11209.0|    56045.0| 134390|        Current|    13000.0|   PA|      13000.0| 60 months|  0.1273|    9| 18 November 2018|     false|Individual|debt_consolidation|  Debt consolidation|\n",
      "|YidaXHhjZnhceGU3X...|     Project Manager|   7 years|          RENT|   70000.0|            NULL|       Not Verified|   070xx|        NJ|     5450.0|   119891.0| 227652|     Fully Paid|    25000.0|   NJ|      25000.0| 60 months|  0.1333|   14|   15 August 2015|     false|Individual|debt_consolidation|  Debt consolidation|\n",
      "|Yic6dV1ceGQyXHhmM...|    Finance Manager |   2 years|      MORTGAGE|  200000.0|            NULL|       Not Verified|   463xx|        IN|    19753.0|   256787.0| 159517|        Current|    15200.0|   IN|      15200.0| 60 months|  0.1408|   15|17 September 2017|     false|Individual|debt_consolidation|  Debt consolidation|\n",
      "|YidnXHgxYUFceDhkX...|Supervisory Polic...|   6 years|      MORTGAGE|   56500.0|            NULL|       Not Verified|   283xx|        NC|    27377.0|   273770.0|  26174|     Fully Paid|     5000.0|   NC|       5000.0| 36 months|  0.0726|    4| 15 December 2015|     false|Individual|  home_improvement|    Home improvement|\n",
      "|YidceDA4ZE44XHgxM...|           Conductor| 10+ years|      MORTGAGE|  126000.0|            NULL|    Source Verified|   064xx|        CT|    51099.0|   357696.0| 133433|     Fully Paid|    13000.0|   CT|      13000.0| 36 months|  0.1199|    7|  15 January 2015|     false|Individual|       credit_card|Credit card refin...|\n",
      "|YiJ7K1x4MDN0YVx4Y...|     Project Manager| 10+ years|      MORTGAGE|   75000.0|            NULL|    Source Verified|   761xx|        TX|    14220.0|   156416.0| 239814|     Fully Paid|    30000.0|   TX|      30000.0| 36 months|  0.1561|   14|    14 March 2014|     false|INDIVIDUAL|debt_consolidation|  Debt consolidation|\n",
      "|YidceGM3XHhlYz1ce...|                NULL|      NULL|      MORTGAGE|   52000.0|            NULL|    Source Verified|   750xx|        TX|    19873.0|   139111.0|  28245|     Fully Paid|     5000.0|   TX|       5000.0| 36 months|  0.0999|    7|    15 March 2015|     false|Individual|debt_consolidation|  Debt consolidation|\n",
      "|YidceGI5XHhkOCpce...|                  RN|   4 years|      MORTGAGE|   95000.0|        275000.0|           Verified|   937xx|        CA|    78961.0|   473768.0| 207345|        Current|    21275.0|   CA|      21275.0| 36 months|  0.0819|    4|     19 June 2019|     false| Joint App|debt_consolidation|  Debt consolidation|\n",
      "|YidKXHhjZVx4ZTRce...|                NULL|  < 1 year|          RENT|   80000.0|            NULL|    Source Verified|   330xx|        FL|     1992.0|    15932.0| 151006|        Current|    15000.0|   FL|      15000.0| 36 months|   0.118|   10| 18 December 2018|     false|Individual|       credit_card|Credit card refin...|\n",
      "|YidceGYzXHhjN1x4M...|          Controller|  < 1 year|      MORTGAGE|  120000.0|            NULL|    Source Verified|   342xx|        FL|    22587.0|   429159.0| 124970|    Charged Off|    12000.0|   FL|      12000.0| 60 months|  0.1144|    8|  15 January 2015|     false|Individual|debt_consolidation|  Debt consolidation|\n",
      "|YidceGQ3XHhjZlx4Y...|Mechanical Foreman 1|   2 years|          RENT|   78282.0|            NULL|    Source Verified|   752xx|        TX|     8855.0|    97403.0|  59379|     Fully Paid|     7500.0|   TX|       7500.0| 36 months|  0.1153|    9|  15 October 2015|     false|Individual|       credit_card|Credit card refin...|\n",
      "|YidgXHg5Ylx4YmY1X...|          Supervisor| 10+ years|          RENT|   70000.0|            NULL|    Source Verified|   913xx|        CA|     7507.0|    60058.0| 194698|        Current|    20000.0|   CA|      20000.0| 36 months|    NULL|   15|      19 May 2019|     false|Individual|       credit_card|Credit card refin...|\n",
      "|Yic/XHgwMkJeXHhmM...|             Captain|  < 1 year|      MORTGAGE|  130000.0|            NULL|       Not Verified|   230xx|        VA|     6774.0|    67735.0| 132889|        Current|    13000.0|   VA|      13000.0| 36 months|  0.0784|    1| 18 November 2018|     false|Individual|    major_purchase|      Major purchase|\n",
      "|YidFXHg4MmZTXHg5Y...|    Driver / laborer|    1 year|          RENT|   68000.0|            NULL|    Source Verified|   928xx|        CA|     3550.0|    14198.0| 220359|In Grace Period|    24000.0|   CA|      24000.0| 60 months|  0.2055|   16|  19 October 2019|     false|Individual|debt_consolidation|  Debt consolidation|\n",
      "|YidceGU3XHhiNlx4O...|      Field Mechanic| 10+ years|      MORTGAGE|   47759.0|            NULL|    Source Verified|   270xx|        NC|     5213.0|    31275.0|  59047|        Current|     7500.0|   NC|       7500.0| 36 months|  0.0944|    6|      17 May 2017|     false|Individual|  home_improvement|    Home improvement|\n",
      "|YidceDllZVx4ZjNce...|     Project Manager|   2 years|          RENT|   55000.0|            NULL|           Verified|   902xx|        CA|     4290.0|    17158.0| 181282|        Current|    18000.0|   CA|      18000.0| 60 months|  0.1999|   23|15 September 2015|     false|Individual|debt_consolidation|  Debt consolidation|\n",
      "+--------------------+--------------------+----------+--------------+----------+----------------+-------------------+--------+----------+-----------+-----------+-------+---------------+-----------+-----+-------------+----------+--------+-----+-----------------+----------+----------+------------------+--------------------+\n",
      "only showing top 20 rows\n",
      "\n"
     ]
    }
   ],
   "source": [
    "df.show(20)"
   ]
  },
  {
   "cell_type": "code",
   "execution_count": 64,
   "metadata": {},
   "outputs": [
    {
     "name": "stdout",
     "output_type": "stream",
     "text": [
      "1\n"
     ]
    }
   ],
   "source": [
    "print(df.rdd.getNumPartitions())"
   ]
  },
  {
   "cell_type": "code",
   "execution_count": 65,
   "metadata": {},
   "outputs": [],
   "source": [
    "import psutil\n",
    "logical_cores = psutil.cpu_count(logical=True)\n",
    "df = df.repartition(logical_cores)"
   ]
  },
  {
   "cell_type": "code",
   "execution_count": 66,
   "metadata": {},
   "outputs": [
    {
     "name": "stderr",
     "output_type": "stream",
     "text": [
      "[Stage 676:>                                                        (0 + 1) / 1]\r"
     ]
    },
    {
     "name": "stdout",
     "output_type": "stream",
     "text": [
      "4\n"
     ]
    }
   ],
   "source": [
    "print(df.rdd.getNumPartitions())"
   ]
  },
  {
   "cell_type": "markdown",
   "metadata": {},
   "source": [
    "## Part 2: Cleaning"
   ]
  },
  {
   "cell_type": "code",
   "execution_count": 67,
   "metadata": {},
   "outputs": [
    {
     "name": "stderr",
     "output_type": "stream",
     "text": [
      "[Stage 677:>                                                        (0 + 1) / 1]\r"
     ]
    },
    {
     "name": "stdout",
     "output_type": "stream",
     "text": [
      "+--------------------+--------------------+----------+--------------+----------+----------------+-------------------+--------+----------+-----------+-----------+-------+-----------+-----------+-----+-------------+----------+--------+-----+-----------------+----------+----------+------------------+--------------------+\n",
      "|         customer_id|           emp_title|emp_length|home_ownership|annual_inc|annual_inc_joint|verification_status|zip_code|addr_state|avg_cur_bal|tot_cur_bal|loan_id|loan_status|loan_amount|state|funded_amount|      term|int_rate|grade|       issue_date|pymnt_plan|      type|           purpose|         description|\n",
      "+--------------------+--------------------+----------+--------------+----------+----------------+-------------------+--------+----------+-----------+-----------+-------+-----------+-----------+-----+-------------+----------+--------+-----+-----------------+----------+----------+------------------+--------------------+\n",
      "|YidceDlhQCNceGMzX...|            Director|  < 1 year|      MORTGAGE|   48000.0|        116000.0|       Not Verified|   799xx|        TX|     6643.0|    59785.0| 217597|    Current|    24000.0|   TX|      24000.0| 60 months|  0.0944|    7|17 September 2017|     false| Joint App|debt_consolidation|  Debt consolidation|\n",
      "|YickUytceDE1XHhmZ...| Corrections Officer|   6 years|      MORTGAGE|   50000.0|            NULL|           Verified|   168xx|        PA|    12086.0|   132944.0| 182436|    Current|    18475.0|   PA|      18475.0| 60 months|  0.2245|   23|    16 March 2016|     false|INDIVIDUAL|       credit_card|Credit card refin...|\n",
      "|Yic/JVx4YzVceDlhX...|        Data Analyst|  < 1 year|          RENT|   63000.0|            NULL|    Source Verified|   303xx|        GA|     6814.0|    81762.0|  75914|    Current|     9000.0|   GA|       9000.0| 36 months|  0.1149|    6| 16 December 2016|     false|INDIVIDUAL|       credit_card|Credit card refin...|\n",
      "|YidceDk4MFx4MDhce...|Physician Assista...|   6 years|          RENT|  160000.0|            NULL|           Verified|   184xx|        PA|     2791.0|    55833.0| 173071|    Current|    17000.0|   PA|      17000.0| 36 months|  0.1699|   16| 16 November 2016|     false|INDIVIDUAL|       credit_card|Credit card refin...|\n",
      "|YiJceDAzP1x4OWQuJ...|Director of Strat...|   6 years|      MORTGAGE|  120000.0|        170000.0|           Verified|   208xx|        MD|    40668.0|   325341.0| 245385|    Current|    30000.0|   MD|      30000.0| 60 months|  0.1502|   14| 19 February 2019|     false| Joint App|       credit_card|Credit card refin...|\n",
      "|YicjIVx4ZTVceGIyM...|   aircraft mechanic|   5 years|      MORTGAGE|   53000.0|            NULL|           Verified|   310xx|        GA|    40459.0|   161836.0|  23037| Fully Paid|     4775.0|   GA|       4775.0| 36 months|  0.1757|   18| 14 February 2014|     false|INDIVIDUAL|debt_consolidation|  Debt consolidation|\n",
      "|YidceGRjN1x4ZmZce...|          Accountant|   6 years|          RENT|   90000.0|            NULL|       Not Verified|   770xx|        TX|     6153.0|    67688.0| 195271|    Current|    20000.0|   TX|      20000.0| 36 months|  0.1691|   14| 18 November 2018|     false|Individual|       credit_card|Credit card refin...|\n",
      "|YidceDkxXHgwNiUoX...|      Security guard|   2 years|          RENT|   24000.0|            NULL|       Not Verified|   100xx|        NY|      385.0|     3079.0|  50875| Fully Paid|     6625.0|   NY|       6625.0| 36 months|   0.245|   30| 13 December 2013|     false|INDIVIDUAL|             other|      Getting marry |\n",
      "|YidvXHgwM1x4ODdce...|Litigation Suppor...|   9 years|      MORTGAGE|   70000.0|            NULL|    Source Verified|   410xx|        KY|    13417.0|   174415.0| 210258|Charged Off|    22000.0|   KY|      22000.0| 60 months|  0.1561|   20|   15 August 2015|     false|Individual|debt_consolidation|  Debt consolidation|\n",
      "|YidpXHhlYWFceDgwX...|                NULL|      NULL|      MORTGAGE|   39000.0|            NULL|       Not Verified|   147xx|        NY|     2381.0|    26186.0|  82888|    Current|    10000.0|   NY|      10000.0| 36 months|  0.0532|    4|    16 March 2016|     false|INDIVIDUAL|debt_consolidation|  Debt consolidation|\n",
      "|YidceGU4Rlx4YmNxX...|Information Speci...| 10+ years|      MORTGAGE|  112800.0|            NULL|    Source Verified|   672xx|        KS|    10730.0|   150219.0| 249579|    Current|    32000.0|   KS|      32000.0| 60 months|  0.1075|    9|    16 March 2016|     false|INDIVIDUAL|debt_consolidation|  Debt consolidation|\n",
      "|YidceGZjXHg5M1x4Z...|    Customer Service|   5 years|      MORTGAGE|   30000.0|            NULL|       Not Verified|   180xx|        PA|     1350.0|     5398.0| 153103|    Current|    15000.0|   PA|      15000.0| 36 months|  0.1559|   11|16 September 2016|     false|INDIVIDUAL|       credit_card|Credit card refin...|\n",
      "|YiIrXHhhMlx4YzZce...|             janiter| 10+ years|          RENT|   42000.0|            NULL|           Verified|   201xx|        VA|     3732.0|    44789.0| 144199|    Current|    14825.0|   VA|      14825.0| 36 months|  0.2075|   21|    16 March 2016|     false|INDIVIDUAL|             other|               Other|\n",
      "|YidceDE2XHhkMj5ce...|      Senior Analyst|   5 years|          RENT|  111800.0|            NULL|           Verified|   210xx|        MD|     7053.0|    56427.0| 190354|    Current|    20000.0|   MD|      20000.0| 36 months|  0.0824|   10|    17 March 2017|     false|Individual|debt_consolidation|  Debt consolidation|\n",
      "|YidceGM0eFx4ZDZce...|            Reporter|    1 year|          RENT|   60000.0|        175000.0|       Not Verified|   921xx|        CA|    12343.0|    86401.0| 119925|    Current|    12000.0|   CA|      12000.0| 36 months|  0.1072|   10| 19 February 2019|     false| Joint App|debt_consolidation|  Debt consolidation|\n",
      "|YidceDAzVlx4ZjZYX...|           Executive|   4 years|           OWN|  215000.0|            NULL|           Verified|   226xx|        VA|    34283.0|   582814.0| 142719|    Current|    14400.0|   VA|      14400.0| 60 months|  0.0999|    9|     15 July 2015|     false|Individual|debt_consolidation|  Debt consolidation|\n",
      "|YidceDhkXHhhNVx4M...|    CLIENT ASSOCIATE| 10+ years|          RENT|   60000.0|            NULL|    Source Verified|   070xx|        NJ|     1348.0|    25614.0| 206793| Fully Paid|    21000.0|   NJ|      21000.0| 60 months|  0.2245|   24|    16 March 2016|     false|INDIVIDUAL|debt_consolidation|  Debt consolidation|\n",
      "|Yic6XHhmMn1ceGM5b...|     Program Manager|  < 1 year|      MORTGAGE|   95000.0|            NULL|           Verified|   799xx|        TX|    10943.0|   218868.0| 137612|    Current|    14000.0|   TX|      14000.0| 36 months|    NULL|    1|    16 April 2016|     false|INDIVIDUAL|       credit_card|Credit card refin...|\n",
      "|YidceGZhQEB8XHhkY...|                NULL|  < 1 year|          RENT|   75000.0|            NULL|       Not Verified|   894xx|        NV|     6538.0|    58839.0| 188434|    Current|    20000.0|   NV|      20000.0| 36 months|  0.0646|    1| 18 December 2018|     false|Individual|       credit_card|Credit card refin...|\n",
      "|YidceDA3XHgxYm1ce...|      UX Design Lead|   3 years|           OWN|   95000.0|            NULL|    Source Verified|   277xx|        NC|     3207.0|    19244.0| 214257| Fully Paid|    24000.0|   NC|      24000.0| 60 months|  0.1399|   11|  15 October 2015|     false|Individual|  home_improvement|    Home improvement|\n",
      "+--------------------+--------------------+----------+--------------+----------+----------------+-------------------+--------+----------+-----------+-----------+-------+-----------+-----------+-----+-------------+----------+--------+-----+-----------------+----------+----------+------------------+--------------------+\n",
      "only showing top 20 rows\n",
      "\n"
     ]
    },
    {
     "name": "stderr",
     "output_type": "stream",
     "text": [
      "                                                                                \r"
     ]
    }
   ],
   "source": [
    "df = df.toDF(*(col.lower() for col in df.columns))\n",
    "df = df.toDF(*(col.replace(\" \", \"_\") for col in df.columns))\n",
    "\n",
    "df.show(20)\n"
   ]
  },
  {
   "cell_type": "code",
   "execution_count": 68,
   "metadata": {},
   "outputs": [
    {
     "name": "stderr",
     "output_type": "stream",
     "text": [
      "                                                                                \r"
     ]
    },
    {
     "name": "stdout",
     "output_type": "stream",
     "text": [
      "Missing Information: {'customer_id': 0.0, 'emp_title': 8.75323714391417, 'emp_length': 6.918238993710692, 'home_ownership': 0.0, 'annual_inc': 0.0, 'annual_inc_joint': 92.97817240103589, 'verification_status': 0.0, 'zip_code': 0.0, 'addr_state': 0.0, 'avg_cur_bal': 0.0, 'tot_cur_bal': 0.0, 'loan_id': 0.0, 'loan_status': 0.0, 'loan_amount': 0.0, 'state': 0.0, 'funded_amount': 0.0, 'term': 0.0, 'int_rate': 4.554199038105809, 'grade': 0.0, 'issue_date': 0.0, 'pymnt_plan': 0.0, 'type': 0.0, 'purpose': 0.0, 'description': 0.8953015168331484}\n"
     ]
    }
   ],
   "source": [
    "def detect_missing(df):\n",
    "    missing_info = {col: (df[df[col].isNull()].count() / df.count()) * 100 for col in df.columns}\n",
    "    return missing_info\n",
    "\n",
    "missing_info = detect_missing(df)\n",
    "print(\"Missing Information:\", missing_info)"
   ]
  },
  {
   "cell_type": "code",
   "execution_count": 69,
   "metadata": {},
   "outputs": [
    {
     "name": "stderr",
     "output_type": "stream",
     "text": [
      "[Stage 929:>                                                        (0 + 1) / 1]\r"
     ]
    },
    {
     "name": "stdout",
     "output_type": "stream",
     "text": [
      "+--------------------+--------------------+----------+--------------+----------+----------------+-------------------+--------+----------+-----------+-----------+-------+-----------+-----------+-----+-------------+----------+--------+-----+-----------------+----------+----------+------------------+--------------------+\n",
      "|         customer_id|           emp_title|emp_length|home_ownership|annual_inc|annual_inc_joint|verification_status|zip_code|addr_state|avg_cur_bal|tot_cur_bal|loan_id|loan_status|loan_amount|state|funded_amount|      term|int_rate|grade|       issue_date|pymnt_plan|      type|           purpose|         description|\n",
      "+--------------------+--------------------+----------+--------------+----------+----------------+-------------------+--------+----------+-----------+-----------+-------+-----------+-----------+-----+-------------+----------+--------+-----+-----------------+----------+----------+------------------+--------------------+\n",
      "|YidceDlhQCNceGMzX...|            Director|  < 1 year|      MORTGAGE|   48000.0|        116000.0|       Not Verified|   799xx|        TX|     6643.0|    59785.0| 217597|    Current|    24000.0|   TX|      24000.0| 60 months|  0.0944|    7|17 September 2017|     false| Joint App|debt_consolidation|  Debt consolidation|\n",
      "|YickUytceDE1XHhmZ...| Corrections Officer|   6 years|      MORTGAGE|   50000.0|             0.0|           Verified|   168xx|        PA|    12086.0|   132944.0| 182436|    Current|    18475.0|   PA|      18475.0| 60 months|  0.2245|   23|    16 March 2016|     false|INDIVIDUAL|       credit_card|Credit card refin...|\n",
      "|Yic/JVx4YzVceDlhX...|        Data Analyst|  < 1 year|          RENT|   63000.0|             0.0|    Source Verified|   303xx|        GA|     6814.0|    81762.0|  75914|    Current|     9000.0|   GA|       9000.0| 36 months|  0.1149|    6| 16 December 2016|     false|INDIVIDUAL|       credit_card|Credit card refin...|\n",
      "|YidceDk4MFx4MDhce...|Physician Assista...|   6 years|          RENT|  160000.0|             0.0|           Verified|   184xx|        PA|     2791.0|    55833.0| 173071|    Current|    17000.0|   PA|      17000.0| 36 months|  0.1699|   16| 16 November 2016|     false|INDIVIDUAL|       credit_card|Credit card refin...|\n",
      "|YiJceDAzP1x4OWQuJ...|Director of Strat...|   6 years|      MORTGAGE|  120000.0|        170000.0|           Verified|   208xx|        MD|    40668.0|   325341.0| 245385|    Current|    30000.0|   MD|      30000.0| 60 months|  0.1502|   14| 19 February 2019|     false| Joint App|       credit_card|Credit card refin...|\n",
      "|YicjIVx4ZTVceGIyM...|   aircraft mechanic|   5 years|      MORTGAGE|   53000.0|             0.0|           Verified|   310xx|        GA|    40459.0|   161836.0|  23037| Fully Paid|     4775.0|   GA|       4775.0| 36 months|  0.1757|   18| 14 February 2014|     false|INDIVIDUAL|debt_consolidation|  Debt consolidation|\n",
      "|YidceGRjN1x4ZmZce...|          Accountant|   6 years|          RENT|   90000.0|             0.0|       Not Verified|   770xx|        TX|     6153.0|    67688.0| 195271|    Current|    20000.0|   TX|      20000.0| 36 months|  0.1691|   14| 18 November 2018|     false|Individual|       credit_card|Credit card refin...|\n",
      "|YidceDkxXHgwNiUoX...|      Security guard|   2 years|          RENT|   24000.0|             0.0|       Not Verified|   100xx|        NY|      385.0|     3079.0|  50875| Fully Paid|     6625.0|   NY|       6625.0| 36 months|   0.245|   30| 13 December 2013|     false|INDIVIDUAL|             other|      Getting marry |\n",
      "|YidvXHgwM1x4ODdce...|Litigation Suppor...|   9 years|      MORTGAGE|   70000.0|             0.0|    Source Verified|   410xx|        KY|    13417.0|   174415.0| 210258|Charged Off|    22000.0|   KY|      22000.0| 60 months|  0.1561|   20|   15 August 2015|     false|Individual|debt_consolidation|  Debt consolidation|\n",
      "|YidpXHhlYWFceDgwX...|             Teacher| 10+ years|      MORTGAGE|   39000.0|             0.0|       Not Verified|   147xx|        NY|     2381.0|    26186.0|  82888|    Current|    10000.0|   NY|      10000.0| 36 months|  0.0532|    4|    16 March 2016|     false|INDIVIDUAL|debt_consolidation|  Debt consolidation|\n",
      "|YidceGU4Rlx4YmNxX...|Information Speci...| 10+ years|      MORTGAGE|  112800.0|             0.0|    Source Verified|   672xx|        KS|    10730.0|   150219.0| 249579|    Current|    32000.0|   KS|      32000.0| 60 months|  0.1075|    9|    16 March 2016|     false|INDIVIDUAL|debt_consolidation|  Debt consolidation|\n",
      "|YidceGZjXHg5M1x4Z...|    Customer Service|   5 years|      MORTGAGE|   30000.0|             0.0|       Not Verified|   180xx|        PA|     1350.0|     5398.0| 153103|    Current|    15000.0|   PA|      15000.0| 36 months|  0.1559|   11|16 September 2016|     false|INDIVIDUAL|       credit_card|Credit card refin...|\n",
      "|YiIrXHhhMlx4YzZce...|             janiter| 10+ years|          RENT|   42000.0|             0.0|           Verified|   201xx|        VA|     3732.0|    44789.0| 144199|    Current|    14825.0|   VA|      14825.0| 36 months|  0.2075|   21|    16 March 2016|     false|INDIVIDUAL|             other|               Other|\n",
      "|YidceDE2XHhkMj5ce...|      Senior Analyst|   5 years|          RENT|  111800.0|             0.0|           Verified|   210xx|        MD|     7053.0|    56427.0| 190354|    Current|    20000.0|   MD|      20000.0| 36 months|  0.0824|   10|    17 March 2017|     false|Individual|debt_consolidation|  Debt consolidation|\n",
      "|YidceGM0eFx4ZDZce...|            Reporter|    1 year|          RENT|   60000.0|        175000.0|       Not Verified|   921xx|        CA|    12343.0|    86401.0| 119925|    Current|    12000.0|   CA|      12000.0| 36 months|  0.1072|   10| 19 February 2019|     false| Joint App|debt_consolidation|  Debt consolidation|\n",
      "|YidceDAzVlx4ZjZYX...|           Executive|   4 years|           OWN|  215000.0|             0.0|           Verified|   226xx|        VA|    34283.0|   582814.0| 142719|    Current|    14400.0|   VA|      14400.0| 60 months|  0.0999|    9|     15 July 2015|     false|Individual|debt_consolidation|  Debt consolidation|\n",
      "|YidceDhkXHhhNVx4M...|    CLIENT ASSOCIATE| 10+ years|          RENT|   60000.0|             0.0|    Source Verified|   070xx|        NJ|     1348.0|    25614.0| 206793| Fully Paid|    21000.0|   NJ|      21000.0| 60 months|  0.2245|   24|    16 March 2016|     false|INDIVIDUAL|debt_consolidation|  Debt consolidation|\n",
      "|Yic6XHhmMn1ceGM5b...|     Program Manager|  < 1 year|      MORTGAGE|   95000.0|             0.0|           Verified|   799xx|        TX|    10943.0|   218868.0| 137612|    Current|    14000.0|   TX|      14000.0| 36 months|     0.0|    1|    16 April 2016|     false|INDIVIDUAL|       credit_card|Credit card refin...|\n",
      "|YidceGZhQEB8XHhkY...|             Teacher|  < 1 year|          RENT|   75000.0|             0.0|       Not Verified|   894xx|        NV|     6538.0|    58839.0| 188434|    Current|    20000.0|   NV|      20000.0| 36 months|  0.0646|    1| 18 December 2018|     false|Individual|       credit_card|Credit card refin...|\n",
      "|YidceDA3XHgxYm1ce...|      UX Design Lead|   3 years|           OWN|   95000.0|             0.0|    Source Verified|   277xx|        NC|     3207.0|    19244.0| 214257| Fully Paid|    24000.0|   NC|      24000.0| 60 months|  0.1399|   11|  15 October 2015|     false|Individual|  home_improvement|    Home improvement|\n",
      "+--------------------+--------------------+----------+--------------+----------+----------------+-------------------+--------+----------+-----------+-----------+-------+-----------+-----------+-----+-------------+----------+--------+-----+-----------------+----------+----------+------------------+--------------------+\n",
      "only showing top 20 rows\n",
      "\n"
     ]
    },
    {
     "name": "stderr",
     "output_type": "stream",
     "text": [
      "                                                                                \r"
     ]
    }
   ],
   "source": [
    "\n",
    "\n",
    "num_col=['annual_inc_joint','int_rate']\n",
    "string_col=['emp_title','emp_length','description']\n",
    "df=df.na.fill(value=0,subset=num_col)\n",
    "\n",
    "for col_name in string_col:\n",
    "    mode= df[df[col_name].isNull()==False].groupBy(col_name).count()\\\n",
    "                      .orderBy(col('count').desc())\\\n",
    "                      .limit(1).select(col_name).collect()[0][0]\n",
    "\n",
    "   \n",
    "    # print(mode)\n",
    "    df=df.na.fill(value=mode,subset=[col_name])\n",
    "    \n",
    "df.show(20)    "
   ]
  },
  {
   "cell_type": "code",
   "execution_count": 70,
   "metadata": {},
   "outputs": [
    {
     "name": "stdout",
     "output_type": "stream",
     "text": [
      "Missing Information: {'customer_id': 0.0, 'emp_title': 0.0, 'emp_length': 0.0, 'home_ownership': 0.0, 'annual_inc': 0.0, 'annual_inc_joint': 0.0, 'verification_status': 0.0, 'zip_code': 0.0, 'addr_state': 0.0, 'avg_cur_bal': 0.0, 'tot_cur_bal': 0.0, 'loan_id': 0.0, 'loan_status': 0.0, 'loan_amount': 0.0, 'state': 0.0, 'funded_amount': 0.0, 'term': 0.0, 'int_rate': 0.0, 'grade': 0.0, 'issue_date': 0.0, 'pymnt_plan': 0.0, 'type': 0.0, 'purpose': 0.0, 'description': 0.0}\n"
     ]
    }
   ],
   "source": [
    "missing_info = detect_missing(df)\n",
    "print(\"Missing Information:\", missing_info)"
   ]
  },
  {
   "cell_type": "markdown",
   "metadata": {},
   "source": [
    "## Part 3: Encoding"
   ]
  },
  {
   "cell_type": "code",
   "execution_count": 71,
   "metadata": {},
   "outputs": [
    {
     "name": "stderr",
     "output_type": "stream",
     "text": [
      "[Stage 1143:>                                                       (0 + 1) / 1]\r"
     ]
    },
    {
     "name": "stdout",
     "output_type": "stream",
     "text": [
      "+--------------------+--------------------+----------+--------------+----------+----------------+-------------------+--------+----------+-----------+-----------+-------+-----------+-----------+-----+-------------+----------+--------+-----+-----------------+----------+----------+------------------+--------------------+\n",
      "|         customer_id|           emp_title|emp_length|home_ownership|annual_inc|annual_inc_joint|verification_status|zip_code|addr_state|avg_cur_bal|tot_cur_bal|loan_id|loan_status|loan_amount|state|funded_amount|      term|int_rate|grade|       issue_date|pymnt_plan|      type|           purpose|         description|\n",
      "+--------------------+--------------------+----------+--------------+----------+----------------+-------------------+--------+----------+-----------+-----------+-------+-----------+-----------+-----+-------------+----------+--------+-----+-----------------+----------+----------+------------------+--------------------+\n",
      "|YidceDlhQCNceGMzX...|            Director|       0.5|      MORTGAGE|   48000.0|        116000.0|       Not Verified|   799xx|        TX|     6643.0|    59785.0| 217597|    Current|    24000.0|   TX|      24000.0| 60 months|  0.0944|    7|17 September 2017|     false| Joint App|debt_consolidation|  Debt consolidation|\n",
      "|YickUytceDE1XHhmZ...| Corrections Officer|       6.0|      MORTGAGE|   50000.0|             0.0|           Verified|   168xx|        PA|    12086.0|   132944.0| 182436|    Current|    18475.0|   PA|      18475.0| 60 months|  0.2245|   23|    16 March 2016|     false|INDIVIDUAL|       credit_card|Credit card refin...|\n",
      "|Yic/JVx4YzVceDlhX...|        Data Analyst|       0.5|          RENT|   63000.0|             0.0|    Source Verified|   303xx|        GA|     6814.0|    81762.0|  75914|    Current|     9000.0|   GA|       9000.0| 36 months|  0.1149|    6| 16 December 2016|     false|INDIVIDUAL|       credit_card|Credit card refin...|\n",
      "|YidceDk4MFx4MDhce...|Physician Assista...|       6.0|          RENT|  160000.0|             0.0|           Verified|   184xx|        PA|     2791.0|    55833.0| 173071|    Current|    17000.0|   PA|      17000.0| 36 months|  0.1699|   16| 16 November 2016|     false|INDIVIDUAL|       credit_card|Credit card refin...|\n",
      "|YiJceDAzP1x4OWQuJ...|Director of Strat...|       6.0|      MORTGAGE|  120000.0|        170000.0|           Verified|   208xx|        MD|    40668.0|   325341.0| 245385|    Current|    30000.0|   MD|      30000.0| 60 months|  0.1502|   14| 19 February 2019|     false| Joint App|       credit_card|Credit card refin...|\n",
      "|YicjIVx4ZTVceGIyM...|   aircraft mechanic|       5.0|      MORTGAGE|   53000.0|             0.0|           Verified|   310xx|        GA|    40459.0|   161836.0|  23037| Fully Paid|     4775.0|   GA|       4775.0| 36 months|  0.1757|   18| 14 February 2014|     false|INDIVIDUAL|debt_consolidation|  Debt consolidation|\n",
      "|YidceGRjN1x4ZmZce...|          Accountant|       6.0|          RENT|   90000.0|             0.0|       Not Verified|   770xx|        TX|     6153.0|    67688.0| 195271|    Current|    20000.0|   TX|      20000.0| 36 months|  0.1691|   14| 18 November 2018|     false|Individual|       credit_card|Credit card refin...|\n",
      "|YidceDkxXHgwNiUoX...|      Security guard|       2.0|          RENT|   24000.0|             0.0|       Not Verified|   100xx|        NY|      385.0|     3079.0|  50875| Fully Paid|     6625.0|   NY|       6625.0| 36 months|   0.245|   30| 13 December 2013|     false|INDIVIDUAL|             other|      Getting marry |\n",
      "|YidvXHgwM1x4ODdce...|Litigation Suppor...|       9.0|      MORTGAGE|   70000.0|             0.0|    Source Verified|   410xx|        KY|    13417.0|   174415.0| 210258|Charged Off|    22000.0|   KY|      22000.0| 60 months|  0.1561|   20|   15 August 2015|     false|Individual|debt_consolidation|  Debt consolidation|\n",
      "|YidpXHhlYWFceDgwX...|             Teacher|      10.0|      MORTGAGE|   39000.0|             0.0|       Not Verified|   147xx|        NY|     2381.0|    26186.0|  82888|    Current|    10000.0|   NY|      10000.0| 36 months|  0.0532|    4|    16 March 2016|     false|INDIVIDUAL|debt_consolidation|  Debt consolidation|\n",
      "|YidceGU4Rlx4YmNxX...|Information Speci...|      10.0|      MORTGAGE|  112800.0|             0.0|    Source Verified|   672xx|        KS|    10730.0|   150219.0| 249579|    Current|    32000.0|   KS|      32000.0| 60 months|  0.1075|    9|    16 March 2016|     false|INDIVIDUAL|debt_consolidation|  Debt consolidation|\n",
      "|YidceGZjXHg5M1x4Z...|    Customer Service|       5.0|      MORTGAGE|   30000.0|             0.0|       Not Verified|   180xx|        PA|     1350.0|     5398.0| 153103|    Current|    15000.0|   PA|      15000.0| 36 months|  0.1559|   11|16 September 2016|     false|INDIVIDUAL|       credit_card|Credit card refin...|\n",
      "|YiIrXHhhMlx4YzZce...|             janiter|      10.0|          RENT|   42000.0|             0.0|           Verified|   201xx|        VA|     3732.0|    44789.0| 144199|    Current|    14825.0|   VA|      14825.0| 36 months|  0.2075|   21|    16 March 2016|     false|INDIVIDUAL|             other|               Other|\n",
      "|YidceDE2XHhkMj5ce...|      Senior Analyst|       5.0|          RENT|  111800.0|             0.0|           Verified|   210xx|        MD|     7053.0|    56427.0| 190354|    Current|    20000.0|   MD|      20000.0| 36 months|  0.0824|   10|    17 March 2017|     false|Individual|debt_consolidation|  Debt consolidation|\n",
      "|YidceGM0eFx4ZDZce...|            Reporter|       1.0|          RENT|   60000.0|        175000.0|       Not Verified|   921xx|        CA|    12343.0|    86401.0| 119925|    Current|    12000.0|   CA|      12000.0| 36 months|  0.1072|   10| 19 February 2019|     false| Joint App|debt_consolidation|  Debt consolidation|\n",
      "|YidceDAzVlx4ZjZYX...|           Executive|       4.0|           OWN|  215000.0|             0.0|           Verified|   226xx|        VA|    34283.0|   582814.0| 142719|    Current|    14400.0|   VA|      14400.0| 60 months|  0.0999|    9|     15 July 2015|     false|Individual|debt_consolidation|  Debt consolidation|\n",
      "|YidceDhkXHhhNVx4M...|    CLIENT ASSOCIATE|      10.0|          RENT|   60000.0|             0.0|    Source Verified|   070xx|        NJ|     1348.0|    25614.0| 206793| Fully Paid|    21000.0|   NJ|      21000.0| 60 months|  0.2245|   24|    16 March 2016|     false|INDIVIDUAL|debt_consolidation|  Debt consolidation|\n",
      "|Yic6XHhmMn1ceGM5b...|     Program Manager|       0.5|      MORTGAGE|   95000.0|             0.0|           Verified|   799xx|        TX|    10943.0|   218868.0| 137612|    Current|    14000.0|   TX|      14000.0| 36 months|     0.0|    1|    16 April 2016|     false|INDIVIDUAL|       credit_card|Credit card refin...|\n",
      "|YidceGZhQEB8XHhkY...|             Teacher|       0.5|          RENT|   75000.0|             0.0|       Not Verified|   894xx|        NV|     6538.0|    58839.0| 188434|    Current|    20000.0|   NV|      20000.0| 36 months|  0.0646|    1| 18 December 2018|     false|Individual|       credit_card|Credit card refin...|\n",
      "|YidceDA3XHgxYm1ce...|      UX Design Lead|       3.0|           OWN|   95000.0|             0.0|    Source Verified|   277xx|        NC|     3207.0|    19244.0| 214257| Fully Paid|    24000.0|   NC|      24000.0| 60 months|  0.1399|   11|  15 October 2015|     false|Individual|  home_improvement|    Home improvement|\n",
      "+--------------------+--------------------+----------+--------------+----------+----------------+-------------------+--------+----------+-----------+-----------+-------+-----------+-----------+-----+-------------+----------+--------+-----+-----------------+----------+----------+------------------+--------------------+\n",
      "only showing top 20 rows\n",
      "\n"
     ]
    },
    {
     "name": "stderr",
     "output_type": "stream",
     "text": [
      "                                                                                \r"
     ]
    }
   ],
   "source": [
    "\n",
    "\n",
    "df_encoded_emp = df.withColumn(\n",
    "    \"emp_length\",\n",
    "    regexp_replace(\n",
    "        regexp_replace(col(\"emp_length\"), \"< 1 year\", \"0.5 years\"), \n",
    "        \"10\\\\+ years\", \"10 years\" \n",
    "    )\n",
    ")\n",
    "df_encoded_emp=df_encoded_emp.withColumn(\"emp_length\",regexp_replace(col(\"emp_length\"),\" year\",\"\"))\n",
    "df_encoded_emp=df_encoded_emp.withColumn(\"emp_length\",regexp_replace(col(\"emp_length\"),\"s\",\"\").cast(\"float\"))\n",
    "\n",
    "df_encoded_emp.show()\n"
   ]
  },
  {
   "cell_type": "code",
   "execution_count": 72,
   "metadata": {},
   "outputs": [],
   "source": [
    "lookup.append({'Column':'emp_length','Original': '< 1 year', 'Encoded': '0.5'})\n",
    "lookup.append({'Column':'emp_length','Original': '1 year', 'Encoded': '1'})\n",
    "lookup.append({'Column':'emp_length','Original': '2 years', 'Encoded': '2'})\n",
    "lookup.append({'Column':'emp_length','Original': '3 years', 'Encoded': '3'})\n",
    "lookup.append({'Column':'emp_length','Original': '4 years', 'Encoded': '4'})\n",
    "lookup.append({'Column':'emp_length','Original': '5 years', 'Encoded': '5'})\n",
    "lookup.append({'Column':'emp_length','Original': '6 years', 'Encoded': '6'})\n",
    "lookup.append({'Column':'emp_length','Original': '7 years', 'Encoded': '7'})\n",
    "lookup.append({'Column':'emp_length','Original': '8 years', 'Encoded': '8'})\n",
    "lookup.append({'Column':'emp_length','Original': '9 years', 'Encoded': '9'})\n",
    "lookup.append({'Column':'emp_length','Original': '10+ years', 'Encoded': '10'})"
   ]
  },
  {
   "cell_type": "code",
   "execution_count": 73,
   "metadata": {},
   "outputs": [
    {
     "name": "stderr",
     "output_type": "stream",
     "text": [
      "                                                                                \r"
     ]
    }
   ],
   "source": [
    "\n",
    "\n",
    "\n",
    "unique_values = df_encoded_emp.select(\"home_ownership\").distinct().rdd.flatMap(lambda x: x).collect()\n",
    "df_encoded2=df_encoded_emp\n",
    "for value in unique_values:\n",
    "    df_encoded2 = df_encoded2.withColumn(\"home_ownership_\"+value, when(col(\"home_ownership\") == value, 1).otherwise(0))\n",
    "    \n",
    "# df_encoded2.show()    "
   ]
  },
  {
   "cell_type": "code",
   "execution_count": 74,
   "metadata": {},
   "outputs": [],
   "source": [
    "# stringIndexer = StringIndexer(inputCol=\"verification_status\", outputCol=\"verification_status_index\")\n",
    "# model = stringIndexer.fit(df_encoded2)\n",
    "# df_encoded2 = model.transform(df_encoded2)\n",
    "# encoder = OneHotEncoder(inputCol=\"verification_status_index\", outputCol=\"verification_status_encoded\")\n",
    "# df_encoded2 = encoder.fit(df_encoded2).transform(df_encoded2)\n",
    "\n",
    "\n",
    "unique_values = df_encoded2.select(\"verification_status\").distinct().rdd.flatMap(lambda x: x).collect()\n",
    "for value in unique_values:\n",
    "    df_encoded2 = df_encoded2.withColumn(\"verification_status_\" + value, when(col(\"verification_status\") == value, 1).otherwise(0))"
   ]
  },
  {
   "cell_type": "code",
   "execution_count": 75,
   "metadata": {},
   "outputs": [],
   "source": [
    "# stringIndexer = StringIndexer(inputCol=\"type\", outputCol=\"type_index\")\n",
    "# model = stringIndexer.fit(df_encoded2)\n",
    "# df_encoded2 = model.transform(df_encoded2)\n",
    "# encoder = OneHotEncoder(inputCol=\"type_index\", outputCol=\"type_encoded\")\n",
    "# df_encoded2 = encoder.fit(df_encoded2).transform(df_encoded2)\n",
    "\n",
    "unique_values = df_encoded2.select(\"type\").distinct().rdd.flatMap(lambda x: x).collect()\n",
    "for value in unique_values:\n",
    "    df_encoded2 = df_encoded2.withColumn(\"type_\"+value, when(col(\"type\") == value, 1).otherwise(0))"
   ]
  },
  {
   "cell_type": "code",
   "execution_count": 76,
   "metadata": {},
   "outputs": [
    {
     "name": "stdout",
     "output_type": "stream",
     "text": [
      "+--------------------+--------------------+----------+--------------+----------+----------------+-------------------+--------+----------+-----------+-----------+-------+-----------+-----------+-----+-------------+----------+--------+-----+-----------------+----------+----------+------------------+--------------------+------------------+-------------------+-----------------------+------------------+----------------------------+-----------------------------------+--------------------------------+--------------+---------------+---------------+----------+\n",
      "|         customer_id|           emp_title|emp_length|home_ownership|annual_inc|annual_inc_joint|verification_status|zip_code|addr_state|avg_cur_bal|tot_cur_bal|loan_id|loan_status|loan_amount|state|funded_amount|      term|int_rate|grade|       issue_date|pymnt_plan|      type|           purpose|         description|home_ownership_OWN|home_ownership_RENT|home_ownership_MORTGAGE|home_ownership_ANY|verification_status_Verified|verification_status_Source Verified|verification_status_Not Verified|type_Joint App|type_INDIVIDUAL|type_DIRECT_PAY|type_JOINT|\n",
      "+--------------------+--------------------+----------+--------------+----------+----------------+-------------------+--------+----------+-----------+-----------+-------+-----------+-----------+-----+-------------+----------+--------+-----+-----------------+----------+----------+------------------+--------------------+------------------+-------------------+-----------------------+------------------+----------------------------+-----------------------------------+--------------------------------+--------------+---------------+---------------+----------+\n",
      "|YidceDlhQCNceGMzX...|            Director|       0.5|      MORTGAGE|   48000.0|        116000.0|       Not Verified|   799xx|        TX|     6643.0|    59785.0| 217597|    Current|    24000.0|   TX|      24000.0| 60 months|  0.0944|    7|17 September 2017|     false| Joint App|debt_consolidation|  Debt consolidation|                 0|                  0|                      1|                 0|                           0|                                  0|                               1|             1|              0|              0|         0|\n",
      "|YickUytceDE1XHhmZ...| Corrections Officer|       6.0|      MORTGAGE|   50000.0|             0.0|           Verified|   168xx|        PA|    12086.0|   132944.0| 182436|    Current|    18475.0|   PA|      18475.0| 60 months|  0.2245|   23|    16 March 2016|     false|INDIVIDUAL|       credit_card|Credit card refin...|                 0|                  0|                      1|                 0|                           1|                                  0|                               0|             0|              1|              0|         0|\n",
      "|Yic/JVx4YzVceDlhX...|        Data Analyst|       0.5|          RENT|   63000.0|             0.0|    Source Verified|   303xx|        GA|     6814.0|    81762.0|  75914|    Current|     9000.0|   GA|       9000.0| 36 months|  0.1149|    6| 16 December 2016|     false|INDIVIDUAL|       credit_card|Credit card refin...|                 0|                  1|                      0|                 0|                           0|                                  1|                               0|             0|              1|              0|         0|\n",
      "|YidceDk4MFx4MDhce...|Physician Assista...|       6.0|          RENT|  160000.0|             0.0|           Verified|   184xx|        PA|     2791.0|    55833.0| 173071|    Current|    17000.0|   PA|      17000.0| 36 months|  0.1699|   16| 16 November 2016|     false|INDIVIDUAL|       credit_card|Credit card refin...|                 0|                  1|                      0|                 0|                           1|                                  0|                               0|             0|              1|              0|         0|\n",
      "|YiJceDAzP1x4OWQuJ...|Director of Strat...|       6.0|      MORTGAGE|  120000.0|        170000.0|           Verified|   208xx|        MD|    40668.0|   325341.0| 245385|    Current|    30000.0|   MD|      30000.0| 60 months|  0.1502|   14| 19 February 2019|     false| Joint App|       credit_card|Credit card refin...|                 0|                  0|                      1|                 0|                           1|                                  0|                               0|             1|              0|              0|         0|\n",
      "|YicjIVx4ZTVceGIyM...|   aircraft mechanic|       5.0|      MORTGAGE|   53000.0|             0.0|           Verified|   310xx|        GA|    40459.0|   161836.0|  23037| Fully Paid|     4775.0|   GA|       4775.0| 36 months|  0.1757|   18| 14 February 2014|     false|INDIVIDUAL|debt_consolidation|  Debt consolidation|                 0|                  0|                      1|                 0|                           1|                                  0|                               0|             0|              1|              0|         0|\n",
      "|YidceGRjN1x4ZmZce...|          Accountant|       6.0|          RENT|   90000.0|             0.0|       Not Verified|   770xx|        TX|     6153.0|    67688.0| 195271|    Current|    20000.0|   TX|      20000.0| 36 months|  0.1691|   14| 18 November 2018|     false|Individual|       credit_card|Credit card refin...|                 0|                  1|                      0|                 0|                           0|                                  0|                               1|             0|              0|              0|         0|\n",
      "|YidceDkxXHgwNiUoX...|      Security guard|       2.0|          RENT|   24000.0|             0.0|       Not Verified|   100xx|        NY|      385.0|     3079.0|  50875| Fully Paid|     6625.0|   NY|       6625.0| 36 months|   0.245|   30| 13 December 2013|     false|INDIVIDUAL|             other|      Getting marry |                 0|                  1|                      0|                 0|                           0|                                  0|                               1|             0|              1|              0|         0|\n",
      "|YidvXHgwM1x4ODdce...|Litigation Suppor...|       9.0|      MORTGAGE|   70000.0|             0.0|    Source Verified|   410xx|        KY|    13417.0|   174415.0| 210258|Charged Off|    22000.0|   KY|      22000.0| 60 months|  0.1561|   20|   15 August 2015|     false|Individual|debt_consolidation|  Debt consolidation|                 0|                  0|                      1|                 0|                           0|                                  1|                               0|             0|              0|              0|         0|\n",
      "|YidpXHhlYWFceDgwX...|             Teacher|      10.0|      MORTGAGE|   39000.0|             0.0|       Not Verified|   147xx|        NY|     2381.0|    26186.0|  82888|    Current|    10000.0|   NY|      10000.0| 36 months|  0.0532|    4|    16 March 2016|     false|INDIVIDUAL|debt_consolidation|  Debt consolidation|                 0|                  0|                      1|                 0|                           0|                                  0|                               1|             0|              1|              0|         0|\n",
      "|YidceGU4Rlx4YmNxX...|Information Speci...|      10.0|      MORTGAGE|  112800.0|             0.0|    Source Verified|   672xx|        KS|    10730.0|   150219.0| 249579|    Current|    32000.0|   KS|      32000.0| 60 months|  0.1075|    9|    16 March 2016|     false|INDIVIDUAL|debt_consolidation|  Debt consolidation|                 0|                  0|                      1|                 0|                           0|                                  1|                               0|             0|              1|              0|         0|\n",
      "|YidceGZjXHg5M1x4Z...|    Customer Service|       5.0|      MORTGAGE|   30000.0|             0.0|       Not Verified|   180xx|        PA|     1350.0|     5398.0| 153103|    Current|    15000.0|   PA|      15000.0| 36 months|  0.1559|   11|16 September 2016|     false|INDIVIDUAL|       credit_card|Credit card refin...|                 0|                  0|                      1|                 0|                           0|                                  0|                               1|             0|              1|              0|         0|\n",
      "|YiIrXHhhMlx4YzZce...|             janiter|      10.0|          RENT|   42000.0|             0.0|           Verified|   201xx|        VA|     3732.0|    44789.0| 144199|    Current|    14825.0|   VA|      14825.0| 36 months|  0.2075|   21|    16 March 2016|     false|INDIVIDUAL|             other|               Other|                 0|                  1|                      0|                 0|                           1|                                  0|                               0|             0|              1|              0|         0|\n",
      "|YidceDE2XHhkMj5ce...|      Senior Analyst|       5.0|          RENT|  111800.0|             0.0|           Verified|   210xx|        MD|     7053.0|    56427.0| 190354|    Current|    20000.0|   MD|      20000.0| 36 months|  0.0824|   10|    17 March 2017|     false|Individual|debt_consolidation|  Debt consolidation|                 0|                  1|                      0|                 0|                           1|                                  0|                               0|             0|              0|              0|         0|\n",
      "|YidceGM0eFx4ZDZce...|            Reporter|       1.0|          RENT|   60000.0|        175000.0|       Not Verified|   921xx|        CA|    12343.0|    86401.0| 119925|    Current|    12000.0|   CA|      12000.0| 36 months|  0.1072|   10| 19 February 2019|     false| Joint App|debt_consolidation|  Debt consolidation|                 0|                  1|                      0|                 0|                           0|                                  0|                               1|             1|              0|              0|         0|\n",
      "|YidceDAzVlx4ZjZYX...|           Executive|       4.0|           OWN|  215000.0|             0.0|           Verified|   226xx|        VA|    34283.0|   582814.0| 142719|    Current|    14400.0|   VA|      14400.0| 60 months|  0.0999|    9|     15 July 2015|     false|Individual|debt_consolidation|  Debt consolidation|                 1|                  0|                      0|                 0|                           1|                                  0|                               0|             0|              0|              0|         0|\n",
      "|YidceDhkXHhhNVx4M...|    CLIENT ASSOCIATE|      10.0|          RENT|   60000.0|             0.0|    Source Verified|   070xx|        NJ|     1348.0|    25614.0| 206793| Fully Paid|    21000.0|   NJ|      21000.0| 60 months|  0.2245|   24|    16 March 2016|     false|INDIVIDUAL|debt_consolidation|  Debt consolidation|                 0|                  1|                      0|                 0|                           0|                                  1|                               0|             0|              1|              0|         0|\n",
      "|Yic6XHhmMn1ceGM5b...|     Program Manager|       0.5|      MORTGAGE|   95000.0|             0.0|           Verified|   799xx|        TX|    10943.0|   218868.0| 137612|    Current|    14000.0|   TX|      14000.0| 36 months|     0.0|    1|    16 April 2016|     false|INDIVIDUAL|       credit_card|Credit card refin...|                 0|                  0|                      1|                 0|                           1|                                  0|                               0|             0|              1|              0|         0|\n",
      "|YidceGZhQEB8XHhkY...|             Teacher|       0.5|          RENT|   75000.0|             0.0|       Not Verified|   894xx|        NV|     6538.0|    58839.0| 188434|    Current|    20000.0|   NV|      20000.0| 36 months|  0.0646|    1| 18 December 2018|     false|Individual|       credit_card|Credit card refin...|                 0|                  1|                      0|                 0|                           0|                                  0|                               1|             0|              0|              0|         0|\n",
      "|YidceDA3XHgxYm1ce...|      UX Design Lead|       3.0|           OWN|   95000.0|             0.0|    Source Verified|   277xx|        NC|     3207.0|    19244.0| 214257| Fully Paid|    24000.0|   NC|      24000.0| 60 months|  0.1399|   11|  15 October 2015|     false|Individual|  home_improvement|    Home improvement|                 1|                  0|                      0|                 0|                           0|                                  1|                               0|             0|              0|              0|         0|\n",
      "+--------------------+--------------------+----------+--------------+----------+----------------+-------------------+--------+----------+-----------+-----------+-------+-----------+-----------+-----+-------------+----------+--------+-----+-----------------+----------+----------+------------------+--------------------+------------------+-------------------+-----------------------+------------------+----------------------------+-----------------------------------+--------------------------------+--------------+---------------+---------------+----------+\n",
      "only showing top 20 rows\n",
      "\n"
     ]
    }
   ],
   "source": [
    "df_encoded2.show()"
   ]
  },
  {
   "cell_type": "code",
   "execution_count": 77,
   "metadata": {},
   "outputs": [
    {
     "name": "stdout",
     "output_type": "stream",
     "text": [
      "+--------------------+--------------------+----------+--------------+----------+----------------+-------------------+--------+----------+-----------+-----------+-------+-----------+-----------+-----+-------------+----------+--------+-----+-----------------+----------+----------+------------------+--------------------+------------------+-------------------+-----------------------+------------------+----------------------------+-----------------------------------+--------------------------------+--------------+---------------+---------------+----------+-------------+\n",
      "|         customer_id|           emp_title|emp_length|home_ownership|annual_inc|annual_inc_joint|verification_status|zip_code|addr_state|avg_cur_bal|tot_cur_bal|loan_id|loan_status|loan_amount|state|funded_amount|      term|int_rate|grade|       issue_date|pymnt_plan|      type|           purpose|         description|home_ownership_OWN|home_ownership_RENT|home_ownership_MORTGAGE|home_ownership_ANY|verification_status_Verified|verification_status_Source Verified|verification_status_Not Verified|type_Joint App|type_INDIVIDUAL|type_DIRECT_PAY|type_JOINT|state_encoded|\n",
      "+--------------------+--------------------+----------+--------------+----------+----------------+-------------------+--------+----------+-----------+-----------+-------+-----------+-----------+-----+-------------+----------+--------+-----+-----------------+----------+----------+------------------+--------------------+------------------+-------------------+-----------------------+------------------+----------------------------+-----------------------------------+--------------------------------+--------------+---------------+---------------+----------+-------------+\n",
      "|YidceDlhQCNceGMzX...|            Director|       0.5|      MORTGAGE|   48000.0|        116000.0|       Not Verified|   799xx|        TX|     6643.0|    59785.0| 217597|    Current|    24000.0|   TX|      24000.0| 60 months|  0.0944|    7|17 September 2017|     false| Joint App|debt_consolidation|  Debt consolidation|                 0|                  0|                      1|                 0|                           0|                                  0|                               1|             1|              0|              0|         0|          2.0|\n",
      "|YickUytceDE1XHhmZ...| Corrections Officer|       6.0|      MORTGAGE|   50000.0|             0.0|           Verified|   168xx|        PA|    12086.0|   132944.0| 182436|    Current|    18475.0|   PA|      18475.0| 60 months|  0.2245|   23|    16 March 2016|     false|INDIVIDUAL|       credit_card|Credit card refin...|                 0|                  0|                      1|                 0|                           1|                                  0|                               0|             0|              1|              0|         0|          6.0|\n",
      "|Yic/JVx4YzVceDlhX...|        Data Analyst|       0.5|          RENT|   63000.0|             0.0|    Source Verified|   303xx|        GA|     6814.0|    81762.0|  75914|    Current|     9000.0|   GA|       9000.0| 36 months|  0.1149|    6| 16 December 2016|     false|INDIVIDUAL|       credit_card|Credit card refin...|                 0|                  1|                      0|                 0|                           0|                                  1|                               0|             0|              1|              0|         0|          8.0|\n",
      "|YidceDk4MFx4MDhce...|Physician Assista...|       6.0|          RENT|  160000.0|             0.0|           Verified|   184xx|        PA|     2791.0|    55833.0| 173071|    Current|    17000.0|   PA|      17000.0| 36 months|  0.1699|   16| 16 November 2016|     false|INDIVIDUAL|       credit_card|Credit card refin...|                 0|                  1|                      0|                 0|                           1|                                  0|                               0|             0|              1|              0|         0|          6.0|\n",
      "|YiJceDAzP1x4OWQuJ...|Director of Strat...|       6.0|      MORTGAGE|  120000.0|        170000.0|           Verified|   208xx|        MD|    40668.0|   325341.0| 245385|    Current|    30000.0|   MD|      30000.0| 60 months|  0.1502|   14| 19 February 2019|     false| Joint App|       credit_card|Credit card refin...|                 0|                  0|                      1|                 0|                           1|                                  0|                               0|             1|              0|              0|         0|         13.0|\n",
      "|YicjIVx4ZTVceGIyM...|   aircraft mechanic|       5.0|      MORTGAGE|   53000.0|             0.0|           Verified|   310xx|        GA|    40459.0|   161836.0|  23037| Fully Paid|     4775.0|   GA|       4775.0| 36 months|  0.1757|   18| 14 February 2014|     false|INDIVIDUAL|debt_consolidation|  Debt consolidation|                 0|                  0|                      1|                 0|                           1|                                  0|                               0|             0|              1|              0|         0|          8.0|\n",
      "|YidceGRjN1x4ZmZce...|          Accountant|       6.0|          RENT|   90000.0|             0.0|       Not Verified|   770xx|        TX|     6153.0|    67688.0| 195271|    Current|    20000.0|   TX|      20000.0| 36 months|  0.1691|   14| 18 November 2018|     false|Individual|       credit_card|Credit card refin...|                 0|                  1|                      0|                 0|                           0|                                  0|                               1|             0|              0|              0|         0|          2.0|\n",
      "|YidceDkxXHgwNiUoX...|      Security guard|       2.0|          RENT|   24000.0|             0.0|       Not Verified|   100xx|        NY|      385.0|     3079.0|  50875| Fully Paid|     6625.0|   NY|       6625.0| 36 months|   0.245|   30| 13 December 2013|     false|INDIVIDUAL|             other|      Getting marry |                 0|                  1|                      0|                 0|                           0|                                  0|                               1|             0|              1|              0|         0|          1.0|\n",
      "|YidvXHgwM1x4ODdce...|Litigation Suppor...|       9.0|      MORTGAGE|   70000.0|             0.0|    Source Verified|   410xx|        KY|    13417.0|   174415.0| 210258|Charged Off|    22000.0|   KY|      22000.0| 60 months|  0.1561|   20|   15 August 2015|     false|Individual|debt_consolidation|  Debt consolidation|                 0|                  0|                      1|                 0|                           0|                                  1|                               0|             0|              0|              0|         0|         28.0|\n",
      "|YidpXHhlYWFceDgwX...|             Teacher|      10.0|      MORTGAGE|   39000.0|             0.0|       Not Verified|   147xx|        NY|     2381.0|    26186.0|  82888|    Current|    10000.0|   NY|      10000.0| 36 months|  0.0532|    4|    16 March 2016|     false|INDIVIDUAL|debt_consolidation|  Debt consolidation|                 0|                  0|                      1|                 0|                           0|                                  0|                               1|             0|              1|              0|         0|          1.0|\n",
      "|YidceGU4Rlx4YmNxX...|Information Speci...|      10.0|      MORTGAGE|  112800.0|             0.0|    Source Verified|   672xx|        KS|    10730.0|   150219.0| 249579|    Current|    32000.0|   KS|      32000.0| 60 months|  0.1075|    9|    16 March 2016|     false|INDIVIDUAL|debt_consolidation|  Debt consolidation|                 0|                  0|                      1|                 0|                           0|                                  1|                               0|             0|              1|              0|         0|         29.0|\n",
      "|YidceGZjXHg5M1x4Z...|    Customer Service|       5.0|      MORTGAGE|   30000.0|             0.0|       Not Verified|   180xx|        PA|     1350.0|     5398.0| 153103|    Current|    15000.0|   PA|      15000.0| 36 months|  0.1559|   11|16 September 2016|     false|INDIVIDUAL|       credit_card|Credit card refin...|                 0|                  0|                      1|                 0|                           0|                                  0|                               1|             0|              1|              0|         0|          6.0|\n",
      "|YiIrXHhhMlx4YzZce...|             janiter|      10.0|          RENT|   42000.0|             0.0|           Verified|   201xx|        VA|     3732.0|    44789.0| 144199|    Current|    14825.0|   VA|      14825.0| 36 months|  0.2075|   21|    16 March 2016|     false|INDIVIDUAL|             other|               Other|                 0|                  1|                      0|                 0|                           1|                                  0|                               0|             0|              1|              0|         0|          9.0|\n",
      "|YidceDE2XHhkMj5ce...|      Senior Analyst|       5.0|          RENT|  111800.0|             0.0|           Verified|   210xx|        MD|     7053.0|    56427.0| 190354|    Current|    20000.0|   MD|      20000.0| 36 months|  0.0824|   10|    17 March 2017|     false|Individual|debt_consolidation|  Debt consolidation|                 0|                  1|                      0|                 0|                           1|                                  0|                               0|             0|              0|              0|         0|         13.0|\n",
      "|YidceGM0eFx4ZDZce...|            Reporter|       1.0|          RENT|   60000.0|        175000.0|       Not Verified|   921xx|        CA|    12343.0|    86401.0| 119925|    Current|    12000.0|   CA|      12000.0| 36 months|  0.1072|   10| 19 February 2019|     false| Joint App|debt_consolidation|  Debt consolidation|                 0|                  1|                      0|                 0|                           0|                                  0|                               1|             1|              0|              0|         0|          0.0|\n",
      "|YidceDAzVlx4ZjZYX...|           Executive|       4.0|           OWN|  215000.0|             0.0|           Verified|   226xx|        VA|    34283.0|   582814.0| 142719|    Current|    14400.0|   VA|      14400.0| 60 months|  0.0999|    9|     15 July 2015|     false|Individual|debt_consolidation|  Debt consolidation|                 1|                  0|                      0|                 0|                           1|                                  0|                               0|             0|              0|              0|         0|          9.0|\n",
      "|YidceDhkXHhhNVx4M...|    CLIENT ASSOCIATE|      10.0|          RENT|   60000.0|             0.0|    Source Verified|   070xx|        NJ|     1348.0|    25614.0| 206793| Fully Paid|    21000.0|   NJ|      21000.0| 60 months|  0.2245|   24|    16 March 2016|     false|INDIVIDUAL|debt_consolidation|  Debt consolidation|                 0|                  1|                      0|                 0|                           0|                                  1|                               0|             0|              1|              0|         0|          5.0|\n",
      "|Yic6XHhmMn1ceGM5b...|     Program Manager|       0.5|      MORTGAGE|   95000.0|             0.0|           Verified|   799xx|        TX|    10943.0|   218868.0| 137612|    Current|    14000.0|   TX|      14000.0| 36 months|     0.0|    1|    16 April 2016|     false|INDIVIDUAL|       credit_card|Credit card refin...|                 0|                  0|                      1|                 0|                           1|                                  0|                               0|             0|              1|              0|         0|          2.0|\n",
      "|YidceGZhQEB8XHhkY...|             Teacher|       0.5|          RENT|   75000.0|             0.0|       Not Verified|   894xx|        NV|     6538.0|    58839.0| 188434|    Current|    20000.0|   NV|      20000.0| 36 months|  0.0646|    1| 18 December 2018|     false|Individual|       credit_card|Credit card refin...|                 0|                  1|                      0|                 0|                           0|                                  0|                               1|             0|              0|              0|         0|         21.0|\n",
      "|YidceDA3XHgxYm1ce...|      UX Design Lead|       3.0|           OWN|   95000.0|             0.0|    Source Verified|   277xx|        NC|     3207.0|    19244.0| 214257| Fully Paid|    24000.0|   NC|      24000.0| 60 months|  0.1399|   11|  15 October 2015|     false|Individual|  home_improvement|    Home improvement|                 1|                  0|                      0|                 0|                           0|                                  1|                               0|             0|              0|              0|         0|         10.0|\n",
      "+--------------------+--------------------+----------+--------------+----------+----------------+-------------------+--------+----------+-----------+-----------+-------+-----------+-----------+-----+-------------+----------+--------+-----+-----------------+----------+----------+------------------+--------------------+------------------+-------------------+-----------------------+------------------+----------------------------+-----------------------------------+--------------------------------+--------------+---------------+---------------+----------+-------------+\n",
      "only showing top 20 rows\n",
      "\n"
     ]
    }
   ],
   "source": [
    "state_indexer = StringIndexer(inputCol=\"state\", outputCol=\"state_encoded\")\n",
    "\n",
    "state_indexer_model = state_indexer.fit(df_encoded2)\n",
    "\n",
    "df_label_encoded = state_indexer_model.transform(df_encoded2)\n",
    "\n",
    "\n",
    "for index, label in enumerate(state_indexer_model.labels):\n",
    "    lookup.append({'Column': 'state', 'Original': label, 'Encoded': index})\n",
    "    \n",
    "    \n",
    "df_label_encoded.show(20)\n",
    "\n",
    "\n"
   ]
  },
  {
   "cell_type": "code",
   "execution_count": 78,
   "metadata": {},
   "outputs": [
    {
     "name": "stdout",
     "output_type": "stream",
     "text": [
      "+--------------------+--------------------+----------+--------------+----------+----------------+-------------------+--------+----------+-----------+-----------+-------+-----------+-----------+-----+-------------+----------+--------+-----+-----------------+----------+----------+------------------+--------------------+------------------+-------------------+-----------------------+------------------+----------------------------+-----------------------------------+--------------------------------+--------------+---------------+---------------+----------+-------------+---------------+\n",
      "|         customer_id|           emp_title|emp_length|home_ownership|annual_inc|annual_inc_joint|verification_status|zip_code|addr_state|avg_cur_bal|tot_cur_bal|loan_id|loan_status|loan_amount|state|funded_amount|      term|int_rate|grade|       issue_date|pymnt_plan|      type|           purpose|         description|home_ownership_OWN|home_ownership_RENT|home_ownership_MORTGAGE|home_ownership_ANY|verification_status_Verified|verification_status_Source Verified|verification_status_Not Verified|type_Joint App|type_INDIVIDUAL|type_DIRECT_PAY|type_JOINT|state_encoded|purpose_encoded|\n",
      "+--------------------+--------------------+----------+--------------+----------+----------------+-------------------+--------+----------+-----------+-----------+-------+-----------+-----------+-----+-------------+----------+--------+-----+-----------------+----------+----------+------------------+--------------------+------------------+-------------------+-----------------------+------------------+----------------------------+-----------------------------------+--------------------------------+--------------+---------------+---------------+----------+-------------+---------------+\n",
      "|YidceDlhQCNceGMzX...|            Director|       0.5|      MORTGAGE|   48000.0|        116000.0|       Not Verified|   799xx|        TX|     6643.0|    59785.0| 217597|    Current|    24000.0|   TX|      24000.0| 60 months|  0.0944|    7|17 September 2017|     false| Joint App|debt_consolidation|  Debt consolidation|                 0|                  0|                      1|                 0|                           0|                                  0|                               1|             1|              0|              0|         0|          2.0|            0.0|\n",
      "|YickUytceDE1XHhmZ...| Corrections Officer|       6.0|      MORTGAGE|   50000.0|             0.0|           Verified|   168xx|        PA|    12086.0|   132944.0| 182436|    Current|    18475.0|   PA|      18475.0| 60 months|  0.2245|   23|    16 March 2016|     false|INDIVIDUAL|       credit_card|Credit card refin...|                 0|                  0|                      1|                 0|                           1|                                  0|                               0|             0|              1|              0|         0|          6.0|            1.0|\n",
      "|Yic/JVx4YzVceDlhX...|        Data Analyst|       0.5|          RENT|   63000.0|             0.0|    Source Verified|   303xx|        GA|     6814.0|    81762.0|  75914|    Current|     9000.0|   GA|       9000.0| 36 months|  0.1149|    6| 16 December 2016|     false|INDIVIDUAL|       credit_card|Credit card refin...|                 0|                  1|                      0|                 0|                           0|                                  1|                               0|             0|              1|              0|         0|          8.0|            1.0|\n",
      "|YidceDk4MFx4MDhce...|Physician Assista...|       6.0|          RENT|  160000.0|             0.0|           Verified|   184xx|        PA|     2791.0|    55833.0| 173071|    Current|    17000.0|   PA|      17000.0| 36 months|  0.1699|   16| 16 November 2016|     false|INDIVIDUAL|       credit_card|Credit card refin...|                 0|                  1|                      0|                 0|                           1|                                  0|                               0|             0|              1|              0|         0|          6.0|            1.0|\n",
      "|YiJceDAzP1x4OWQuJ...|Director of Strat...|       6.0|      MORTGAGE|  120000.0|        170000.0|           Verified|   208xx|        MD|    40668.0|   325341.0| 245385|    Current|    30000.0|   MD|      30000.0| 60 months|  0.1502|   14| 19 February 2019|     false| Joint App|       credit_card|Credit card refin...|                 0|                  0|                      1|                 0|                           1|                                  0|                               0|             1|              0|              0|         0|         13.0|            1.0|\n",
      "|YicjIVx4ZTVceGIyM...|   aircraft mechanic|       5.0|      MORTGAGE|   53000.0|             0.0|           Verified|   310xx|        GA|    40459.0|   161836.0|  23037| Fully Paid|     4775.0|   GA|       4775.0| 36 months|  0.1757|   18| 14 February 2014|     false|INDIVIDUAL|debt_consolidation|  Debt consolidation|                 0|                  0|                      1|                 0|                           1|                                  0|                               0|             0|              1|              0|         0|          8.0|            0.0|\n",
      "|YidceGRjN1x4ZmZce...|          Accountant|       6.0|          RENT|   90000.0|             0.0|       Not Verified|   770xx|        TX|     6153.0|    67688.0| 195271|    Current|    20000.0|   TX|      20000.0| 36 months|  0.1691|   14| 18 November 2018|     false|Individual|       credit_card|Credit card refin...|                 0|                  1|                      0|                 0|                           0|                                  0|                               1|             0|              0|              0|         0|          2.0|            1.0|\n",
      "|YidceDkxXHgwNiUoX...|      Security guard|       2.0|          RENT|   24000.0|             0.0|       Not Verified|   100xx|        NY|      385.0|     3079.0|  50875| Fully Paid|     6625.0|   NY|       6625.0| 36 months|   0.245|   30| 13 December 2013|     false|INDIVIDUAL|             other|      Getting marry |                 0|                  1|                      0|                 0|                           0|                                  0|                               1|             0|              1|              0|         0|          1.0|            3.0|\n",
      "|YidvXHgwM1x4ODdce...|Litigation Suppor...|       9.0|      MORTGAGE|   70000.0|             0.0|    Source Verified|   410xx|        KY|    13417.0|   174415.0| 210258|Charged Off|    22000.0|   KY|      22000.0| 60 months|  0.1561|   20|   15 August 2015|     false|Individual|debt_consolidation|  Debt consolidation|                 0|                  0|                      1|                 0|                           0|                                  1|                               0|             0|              0|              0|         0|         28.0|            0.0|\n",
      "|YidpXHhlYWFceDgwX...|             Teacher|      10.0|      MORTGAGE|   39000.0|             0.0|       Not Verified|   147xx|        NY|     2381.0|    26186.0|  82888|    Current|    10000.0|   NY|      10000.0| 36 months|  0.0532|    4|    16 March 2016|     false|INDIVIDUAL|debt_consolidation|  Debt consolidation|                 0|                  0|                      1|                 0|                           0|                                  0|                               1|             0|              1|              0|         0|          1.0|            0.0|\n",
      "|YidceGU4Rlx4YmNxX...|Information Speci...|      10.0|      MORTGAGE|  112800.0|             0.0|    Source Verified|   672xx|        KS|    10730.0|   150219.0| 249579|    Current|    32000.0|   KS|      32000.0| 60 months|  0.1075|    9|    16 March 2016|     false|INDIVIDUAL|debt_consolidation|  Debt consolidation|                 0|                  0|                      1|                 0|                           0|                                  1|                               0|             0|              1|              0|         0|         29.0|            0.0|\n",
      "|YidceGZjXHg5M1x4Z...|    Customer Service|       5.0|      MORTGAGE|   30000.0|             0.0|       Not Verified|   180xx|        PA|     1350.0|     5398.0| 153103|    Current|    15000.0|   PA|      15000.0| 36 months|  0.1559|   11|16 September 2016|     false|INDIVIDUAL|       credit_card|Credit card refin...|                 0|                  0|                      1|                 0|                           0|                                  0|                               1|             0|              1|              0|         0|          6.0|            1.0|\n",
      "|YiIrXHhhMlx4YzZce...|             janiter|      10.0|          RENT|   42000.0|             0.0|           Verified|   201xx|        VA|     3732.0|    44789.0| 144199|    Current|    14825.0|   VA|      14825.0| 36 months|  0.2075|   21|    16 March 2016|     false|INDIVIDUAL|             other|               Other|                 0|                  1|                      0|                 0|                           1|                                  0|                               0|             0|              1|              0|         0|          9.0|            3.0|\n",
      "|YidceDE2XHhkMj5ce...|      Senior Analyst|       5.0|          RENT|  111800.0|             0.0|           Verified|   210xx|        MD|     7053.0|    56427.0| 190354|    Current|    20000.0|   MD|      20000.0| 36 months|  0.0824|   10|    17 March 2017|     false|Individual|debt_consolidation|  Debt consolidation|                 0|                  1|                      0|                 0|                           1|                                  0|                               0|             0|              0|              0|         0|         13.0|            0.0|\n",
      "|YidceGM0eFx4ZDZce...|            Reporter|       1.0|          RENT|   60000.0|        175000.0|       Not Verified|   921xx|        CA|    12343.0|    86401.0| 119925|    Current|    12000.0|   CA|      12000.0| 36 months|  0.1072|   10| 19 February 2019|     false| Joint App|debt_consolidation|  Debt consolidation|                 0|                  1|                      0|                 0|                           0|                                  0|                               1|             1|              0|              0|         0|          0.0|            0.0|\n",
      "|YidceDAzVlx4ZjZYX...|           Executive|       4.0|           OWN|  215000.0|             0.0|           Verified|   226xx|        VA|    34283.0|   582814.0| 142719|    Current|    14400.0|   VA|      14400.0| 60 months|  0.0999|    9|     15 July 2015|     false|Individual|debt_consolidation|  Debt consolidation|                 1|                  0|                      0|                 0|                           1|                                  0|                               0|             0|              0|              0|         0|          9.0|            0.0|\n",
      "|YidceDhkXHhhNVx4M...|    CLIENT ASSOCIATE|      10.0|          RENT|   60000.0|             0.0|    Source Verified|   070xx|        NJ|     1348.0|    25614.0| 206793| Fully Paid|    21000.0|   NJ|      21000.0| 60 months|  0.2245|   24|    16 March 2016|     false|INDIVIDUAL|debt_consolidation|  Debt consolidation|                 0|                  1|                      0|                 0|                           0|                                  1|                               0|             0|              1|              0|         0|          5.0|            0.0|\n",
      "|Yic6XHhmMn1ceGM5b...|     Program Manager|       0.5|      MORTGAGE|   95000.0|             0.0|           Verified|   799xx|        TX|    10943.0|   218868.0| 137612|    Current|    14000.0|   TX|      14000.0| 36 months|     0.0|    1|    16 April 2016|     false|INDIVIDUAL|       credit_card|Credit card refin...|                 0|                  0|                      1|                 0|                           1|                                  0|                               0|             0|              1|              0|         0|          2.0|            1.0|\n",
      "|YidceGZhQEB8XHhkY...|             Teacher|       0.5|          RENT|   75000.0|             0.0|       Not Verified|   894xx|        NV|     6538.0|    58839.0| 188434|    Current|    20000.0|   NV|      20000.0| 36 months|  0.0646|    1| 18 December 2018|     false|Individual|       credit_card|Credit card refin...|                 0|                  1|                      0|                 0|                           0|                                  0|                               1|             0|              0|              0|         0|         21.0|            1.0|\n",
      "|YidceDA3XHgxYm1ce...|      UX Design Lead|       3.0|           OWN|   95000.0|             0.0|    Source Verified|   277xx|        NC|     3207.0|    19244.0| 214257| Fully Paid|    24000.0|   NC|      24000.0| 60 months|  0.1399|   11|  15 October 2015|     false|Individual|  home_improvement|    Home improvement|                 1|                  0|                      0|                 0|                           0|                                  1|                               0|             0|              0|              0|         0|         10.0|            2.0|\n",
      "+--------------------+--------------------+----------+--------------+----------+----------------+-------------------+--------+----------+-----------+-----------+-------+-----------+-----------+-----+-------------+----------+--------+-----+-----------------+----------+----------+------------------+--------------------+------------------+-------------------+-----------------------+------------------+----------------------------+-----------------------------------+--------------------------------+--------------+---------------+---------------+----------+-------------+---------------+\n",
      "only showing top 20 rows\n",
      "\n"
     ]
    }
   ],
   "source": [
    "\n",
    "state_indexer = StringIndexer(inputCol=\"purpose\", outputCol=\"purpose_encoded\")\n",
    "\n",
    "state_indexer_model = state_indexer.fit(df_label_encoded)\n",
    "\n",
    "df_label_encoded = state_indexer_model.transform(df_label_encoded)\n",
    "\n",
    "\n",
    "for index, label in enumerate(state_indexer_model.labels):\n",
    "    lookup.append({'Column': 'purpose', 'Original': label, 'Encoded': index})\n",
    "df_label_encoded.show(20)\n",
    "    "
   ]
  },
  {
   "cell_type": "code",
   "execution_count": 79,
   "metadata": {},
   "outputs": [],
   "source": [
    "\n",
    "df_encoded = df_label_encoded.withColumn(\n",
    "    \"letter_grade\",\n",
    "    when((col(\"grade\") >= 1) & (col(\"grade\") <= 5), \"A\")\n",
    "    .when((col(\"grade\") >= 6) & (col(\"grade\") <= 10), \"B\")\n",
    "    .when((col(\"grade\") >= 11) & (col(\"grade\") <= 15), \"C\")\n",
    "    .when((col(\"grade\") >= 16) & (col(\"grade\") <= 20), \"D\")\n",
    "    .when((col(\"grade\") >= 21) & (col(\"grade\") <= 25), \"E\")\n",
    "    .when((col(\"grade\") >= 26) & (col(\"grade\") <= 30), \"F\")\n",
    "    .when((col(\"grade\") >= 31) & (col(\"grade\") <= 35), \"G\")\n",
    "    .otherwise(None)\n",
    ")"
   ]
  },
  {
   "cell_type": "code",
   "execution_count": 80,
   "metadata": {},
   "outputs": [],
   "source": [
    "lookup.append({'Column': 'grade', 'Original': '1', 'Encoded': 'A'})\n",
    "lookup.append({'Column': 'grade', 'Original': '2', 'Encoded': 'A'})\n",
    "lookup.append({'Column': 'grade', 'Original': '3', 'Encoded': 'A'})\n",
    "lookup.append({'Column': 'grade', 'Original': '4', 'Encoded': 'A'})\n",
    "lookup.append({'Column': 'grade', 'Original': '5', 'Encoded': 'A'})\n",
    "lookup.append({'Column': 'grade', 'Original': '6', 'Encoded': 'B'})\n",
    "lookup.append({'Column': 'grade', 'Original': '7', 'Encoded': 'B'})\n",
    "lookup.append({'Column': 'grade', 'Original': '8', 'Encoded': 'B'})\n",
    "lookup.append({'Column': 'grade', 'Original': '9', 'Encoded': 'B'})\n",
    "lookup.append({'Column': 'grade', 'Original': '10', 'Encoded': 'B'})\n",
    "lookup.append({'Column': 'grade', 'Original': '11', 'Encoded': 'C'})\n",
    "lookup.append({'Column': 'grade', 'Original': '12', 'Encoded': 'C'})\n",
    "lookup.append({'Column': 'grade', 'Original': '13', 'Encoded': 'C'})\n",
    "lookup.append({'Column': 'grade', 'Original': '14', 'Encoded': 'C'})\n",
    "lookup.append({'Column': 'grade', 'Original': '15', 'Encoded': 'C'})\n",
    "lookup.append({'Column': 'grade', 'Original': '16', 'Encoded': 'D'})\n",
    "lookup.append({'Column': 'grade', 'Original': '17', 'Encoded': 'D'})\n",
    "lookup.append({'Column': 'grade', 'Original': '18', 'Encoded': 'D'})\n",
    "lookup.append({'Column': 'grade', 'Original': '19', 'Encoded': 'D'})\n",
    "lookup.append({'Column': 'grade', 'Original': '20', 'Encoded': 'D'})\n",
    "lookup.append({'Column': 'grade', 'Original': '21', 'Encoded': 'E'})\n",
    "lookup.append({'Column': 'grade', 'Original': '22', 'Encoded': 'E'})\n",
    "lookup.append({'Column': 'grade', 'Original': '23', 'Encoded': 'E'})\n",
    "lookup.append({'Column': 'grade', 'Original': '24', 'Encoded': 'E'})\n",
    "lookup.append({'Column': 'grade', 'Original': '25', 'Encoded': 'E'})\n",
    "lookup.append({'Column': 'grade', 'Original': '26', 'Encoded': 'F'})\n",
    "lookup.append({'Column': 'grade', 'Original': '27', 'Encoded': 'F'})\n",
    "lookup.append({'Column': 'grade', 'Original': '28', 'Encoded': 'F'})\n",
    "lookup.append({'Column': 'grade', 'Original': '29', 'Encoded': 'F'})\n",
    "lookup.append({'Column': 'grade', 'Original': '30', 'Encoded': 'F'})\n",
    "lookup.append({'Column': 'grade', 'Original': '31', 'Encoded': 'G'})\n",
    "lookup.append({'Column': 'grade', 'Original': '32', 'Encoded': 'G'})\n",
    "lookup.append({'Column': 'grade', 'Original': '33', 'Encoded': 'G'})\n",
    "lookup.append({'Column': 'grade', 'Original': '34', 'Encoded': 'G'})\n",
    "lookup.append({'Column': 'grade', 'Original': '35', 'Encoded': 'G'})"
   ]
  },
  {
   "cell_type": "code",
   "execution_count": 81,
   "metadata": {},
   "outputs": [
    {
     "name": "stdout",
     "output_type": "stream",
     "text": [
      "+--------------------+--------------------+----------+--------------+----------+----------------+-------------------+--------+----------+-----------+-----------+-------+-----------+-----------+-----+-------------+----------+--------+-----+-----------------+----------+----------+------------------+--------------------+------------------+-------------------+-----------------------+------------------+----------------------------+-----------------------------------+--------------------------------+--------------+---------------+---------------+----------+-------------+---------------+------------+\n",
      "|         customer_id|           emp_title|emp_length|home_ownership|annual_inc|annual_inc_joint|verification_status|zip_code|addr_state|avg_cur_bal|tot_cur_bal|loan_id|loan_status|loan_amount|state|funded_amount|      term|int_rate|grade|       issue_date|pymnt_plan|      type|           purpose|         description|home_ownership_OWN|home_ownership_RENT|home_ownership_MORTGAGE|home_ownership_ANY|verification_status_Verified|verification_status_Source Verified|verification_status_Not Verified|type_Joint App|type_INDIVIDUAL|type_DIRECT_PAY|type_JOINT|state_encoded|purpose_encoded|letter_grade|\n",
      "+--------------------+--------------------+----------+--------------+----------+----------------+-------------------+--------+----------+-----------+-----------+-------+-----------+-----------+-----+-------------+----------+--------+-----+-----------------+----------+----------+------------------+--------------------+------------------+-------------------+-----------------------+------------------+----------------------------+-----------------------------------+--------------------------------+--------------+---------------+---------------+----------+-------------+---------------+------------+\n",
      "|YidceDlhQCNceGMzX...|            Director|       0.5|      MORTGAGE|   48000.0|        116000.0|       Not Verified|   799xx|        TX|     6643.0|    59785.0| 217597|    Current|    24000.0|   TX|      24000.0| 60 months|  0.0944|    7|17 September 2017|     false| Joint App|debt_consolidation|  Debt consolidation|                 0|                  0|                      1|                 0|                           0|                                  0|                               1|             1|              0|              0|         0|          2.0|            0.0|           B|\n",
      "|YickUytceDE1XHhmZ...| Corrections Officer|       6.0|      MORTGAGE|   50000.0|             0.0|           Verified|   168xx|        PA|    12086.0|   132944.0| 182436|    Current|    18475.0|   PA|      18475.0| 60 months|  0.2245|   23|    16 March 2016|     false|INDIVIDUAL|       credit_card|Credit card refin...|                 0|                  0|                      1|                 0|                           1|                                  0|                               0|             0|              1|              0|         0|          6.0|            1.0|           E|\n",
      "|Yic/JVx4YzVceDlhX...|        Data Analyst|       0.5|          RENT|   63000.0|             0.0|    Source Verified|   303xx|        GA|     6814.0|    81762.0|  75914|    Current|     9000.0|   GA|       9000.0| 36 months|  0.1149|    6| 16 December 2016|     false|INDIVIDUAL|       credit_card|Credit card refin...|                 0|                  1|                      0|                 0|                           0|                                  1|                               0|             0|              1|              0|         0|          8.0|            1.0|           B|\n",
      "|YidceDk4MFx4MDhce...|Physician Assista...|       6.0|          RENT|  160000.0|             0.0|           Verified|   184xx|        PA|     2791.0|    55833.0| 173071|    Current|    17000.0|   PA|      17000.0| 36 months|  0.1699|   16| 16 November 2016|     false|INDIVIDUAL|       credit_card|Credit card refin...|                 0|                  1|                      0|                 0|                           1|                                  0|                               0|             0|              1|              0|         0|          6.0|            1.0|           D|\n",
      "|YiJceDAzP1x4OWQuJ...|Director of Strat...|       6.0|      MORTGAGE|  120000.0|        170000.0|           Verified|   208xx|        MD|    40668.0|   325341.0| 245385|    Current|    30000.0|   MD|      30000.0| 60 months|  0.1502|   14| 19 February 2019|     false| Joint App|       credit_card|Credit card refin...|                 0|                  0|                      1|                 0|                           1|                                  0|                               0|             1|              0|              0|         0|         13.0|            1.0|           C|\n",
      "|YicjIVx4ZTVceGIyM...|   aircraft mechanic|       5.0|      MORTGAGE|   53000.0|             0.0|           Verified|   310xx|        GA|    40459.0|   161836.0|  23037| Fully Paid|     4775.0|   GA|       4775.0| 36 months|  0.1757|   18| 14 February 2014|     false|INDIVIDUAL|debt_consolidation|  Debt consolidation|                 0|                  0|                      1|                 0|                           1|                                  0|                               0|             0|              1|              0|         0|          8.0|            0.0|           D|\n",
      "|YidceGRjN1x4ZmZce...|          Accountant|       6.0|          RENT|   90000.0|             0.0|       Not Verified|   770xx|        TX|     6153.0|    67688.0| 195271|    Current|    20000.0|   TX|      20000.0| 36 months|  0.1691|   14| 18 November 2018|     false|Individual|       credit_card|Credit card refin...|                 0|                  1|                      0|                 0|                           0|                                  0|                               1|             0|              0|              0|         0|          2.0|            1.0|           C|\n",
      "|YidceDkxXHgwNiUoX...|      Security guard|       2.0|          RENT|   24000.0|             0.0|       Not Verified|   100xx|        NY|      385.0|     3079.0|  50875| Fully Paid|     6625.0|   NY|       6625.0| 36 months|   0.245|   30| 13 December 2013|     false|INDIVIDUAL|             other|      Getting marry |                 0|                  1|                      0|                 0|                           0|                                  0|                               1|             0|              1|              0|         0|          1.0|            3.0|           F|\n",
      "|YidvXHgwM1x4ODdce...|Litigation Suppor...|       9.0|      MORTGAGE|   70000.0|             0.0|    Source Verified|   410xx|        KY|    13417.0|   174415.0| 210258|Charged Off|    22000.0|   KY|      22000.0| 60 months|  0.1561|   20|   15 August 2015|     false|Individual|debt_consolidation|  Debt consolidation|                 0|                  0|                      1|                 0|                           0|                                  1|                               0|             0|              0|              0|         0|         28.0|            0.0|           D|\n",
      "|YidpXHhlYWFceDgwX...|             Teacher|      10.0|      MORTGAGE|   39000.0|             0.0|       Not Verified|   147xx|        NY|     2381.0|    26186.0|  82888|    Current|    10000.0|   NY|      10000.0| 36 months|  0.0532|    4|    16 March 2016|     false|INDIVIDUAL|debt_consolidation|  Debt consolidation|                 0|                  0|                      1|                 0|                           0|                                  0|                               1|             0|              1|              0|         0|          1.0|            0.0|           A|\n",
      "|YidceGU4Rlx4YmNxX...|Information Speci...|      10.0|      MORTGAGE|  112800.0|             0.0|    Source Verified|   672xx|        KS|    10730.0|   150219.0| 249579|    Current|    32000.0|   KS|      32000.0| 60 months|  0.1075|    9|    16 March 2016|     false|INDIVIDUAL|debt_consolidation|  Debt consolidation|                 0|                  0|                      1|                 0|                           0|                                  1|                               0|             0|              1|              0|         0|         29.0|            0.0|           B|\n",
      "|YidceGZjXHg5M1x4Z...|    Customer Service|       5.0|      MORTGAGE|   30000.0|             0.0|       Not Verified|   180xx|        PA|     1350.0|     5398.0| 153103|    Current|    15000.0|   PA|      15000.0| 36 months|  0.1559|   11|16 September 2016|     false|INDIVIDUAL|       credit_card|Credit card refin...|                 0|                  0|                      1|                 0|                           0|                                  0|                               1|             0|              1|              0|         0|          6.0|            1.0|           C|\n",
      "|YiIrXHhhMlx4YzZce...|             janiter|      10.0|          RENT|   42000.0|             0.0|           Verified|   201xx|        VA|     3732.0|    44789.0| 144199|    Current|    14825.0|   VA|      14825.0| 36 months|  0.2075|   21|    16 March 2016|     false|INDIVIDUAL|             other|               Other|                 0|                  1|                      0|                 0|                           1|                                  0|                               0|             0|              1|              0|         0|          9.0|            3.0|           E|\n",
      "|YidceDE2XHhkMj5ce...|      Senior Analyst|       5.0|          RENT|  111800.0|             0.0|           Verified|   210xx|        MD|     7053.0|    56427.0| 190354|    Current|    20000.0|   MD|      20000.0| 36 months|  0.0824|   10|    17 March 2017|     false|Individual|debt_consolidation|  Debt consolidation|                 0|                  1|                      0|                 0|                           1|                                  0|                               0|             0|              0|              0|         0|         13.0|            0.0|           B|\n",
      "|YidceGM0eFx4ZDZce...|            Reporter|       1.0|          RENT|   60000.0|        175000.0|       Not Verified|   921xx|        CA|    12343.0|    86401.0| 119925|    Current|    12000.0|   CA|      12000.0| 36 months|  0.1072|   10| 19 February 2019|     false| Joint App|debt_consolidation|  Debt consolidation|                 0|                  1|                      0|                 0|                           0|                                  0|                               1|             1|              0|              0|         0|          0.0|            0.0|           B|\n",
      "|YidceDAzVlx4ZjZYX...|           Executive|       4.0|           OWN|  215000.0|             0.0|           Verified|   226xx|        VA|    34283.0|   582814.0| 142719|    Current|    14400.0|   VA|      14400.0| 60 months|  0.0999|    9|     15 July 2015|     false|Individual|debt_consolidation|  Debt consolidation|                 1|                  0|                      0|                 0|                           1|                                  0|                               0|             0|              0|              0|         0|          9.0|            0.0|           B|\n",
      "|YidceDhkXHhhNVx4M...|    CLIENT ASSOCIATE|      10.0|          RENT|   60000.0|             0.0|    Source Verified|   070xx|        NJ|     1348.0|    25614.0| 206793| Fully Paid|    21000.0|   NJ|      21000.0| 60 months|  0.2245|   24|    16 March 2016|     false|INDIVIDUAL|debt_consolidation|  Debt consolidation|                 0|                  1|                      0|                 0|                           0|                                  1|                               0|             0|              1|              0|         0|          5.0|            0.0|           E|\n",
      "|Yic6XHhmMn1ceGM5b...|     Program Manager|       0.5|      MORTGAGE|   95000.0|             0.0|           Verified|   799xx|        TX|    10943.0|   218868.0| 137612|    Current|    14000.0|   TX|      14000.0| 36 months|     0.0|    1|    16 April 2016|     false|INDIVIDUAL|       credit_card|Credit card refin...|                 0|                  0|                      1|                 0|                           1|                                  0|                               0|             0|              1|              0|         0|          2.0|            1.0|           A|\n",
      "|YidceGZhQEB8XHhkY...|             Teacher|       0.5|          RENT|   75000.0|             0.0|       Not Verified|   894xx|        NV|     6538.0|    58839.0| 188434|    Current|    20000.0|   NV|      20000.0| 36 months|  0.0646|    1| 18 December 2018|     false|Individual|       credit_card|Credit card refin...|                 0|                  1|                      0|                 0|                           0|                                  0|                               1|             0|              0|              0|         0|         21.0|            1.0|           A|\n",
      "|YidceDA3XHgxYm1ce...|      UX Design Lead|       3.0|           OWN|   95000.0|             0.0|    Source Verified|   277xx|        NC|     3207.0|    19244.0| 214257| Fully Paid|    24000.0|   NC|      24000.0| 60 months|  0.1399|   11|  15 October 2015|     false|Individual|  home_improvement|    Home improvement|                 1|                  0|                      0|                 0|                           0|                                  1|                               0|             0|              0|              0|         0|         10.0|            2.0|           C|\n",
      "+--------------------+--------------------+----------+--------------+----------+----------------+-------------------+--------+----------+-----------+-----------+-------+-----------+-----------+-----+-------------+----------+--------+-----+-----------------+----------+----------+------------------+--------------------+------------------+-------------------+-----------------------+------------------+----------------------------+-----------------------------------+--------------------------------+--------------+---------------+---------------+----------+-------------+---------------+------------+\n",
      "only showing top 20 rows\n",
      "\n"
     ]
    }
   ],
   "source": [
    "df_encoded.show()"
   ]
  },
  {
   "cell_type": "markdown",
   "metadata": {},
   "source": [
    "## Part 4: Feature Engineering"
   ]
  },
  {
   "cell_type": "code",
   "execution_count": 82,
   "metadata": {},
   "outputs": [],
   "source": [
    "df_feat_eng = df_encoded.withColumn(\n",
    "    \"issue_date\",\n",
    "    to_date(\"issue_date\", \"dd MMMM yyyy\") \n",
    ")"
   ]
  },
  {
   "cell_type": "code",
   "execution_count": 83,
   "metadata": {},
   "outputs": [],
   "source": [
    "\n",
    "\n",
    "window = Window.partitionBy(\"letter_grade\").orderBy(\"issue_date\")\n",
    "\n",
    "##1\n",
    "df_feat_eng = df_feat_eng.withColumn(\n",
    "    \"prev_issue_date_same_grade\",\n",
    "    lag(\"issue_date\", 1).over(window)\n",
    ")\n",
    "##2\n",
    "df_feat_eng = df_feat_eng.withColumn(\n",
    "    \"prev_loan_amount_same_grade\",\n",
    "    lag(\"loan_amount\", 1).over(window)\n",
    ")\n"
   ]
  },
  {
   "cell_type": "code",
   "execution_count": 84,
   "metadata": {},
   "outputs": [
    {
     "name": "stdout",
     "output_type": "stream",
     "text": [
      "+--------------------+--------------------+----------+--------------+----------+----------------+-------------------+--------+----------+-----------+-----------+-------+-----------+-----------+-----+-------------+----------+--------+-----+----------+----------+----------+------------------+--------------------+------------------+-------------------+-----------------------+------------------+----------------------------+-----------------------------------+--------------------------------+--------------+---------------+---------------+----------+-------------+---------------+------------+--------------------------+---------------------------+--------------------------------+---------------------------------+\n",
      "|         customer_id|           emp_title|emp_length|home_ownership|annual_inc|annual_inc_joint|verification_status|zip_code|addr_state|avg_cur_bal|tot_cur_bal|loan_id|loan_status|loan_amount|state|funded_amount|      term|int_rate|grade|issue_date|pymnt_plan|      type|           purpose|         description|home_ownership_OWN|home_ownership_RENT|home_ownership_MORTGAGE|home_ownership_ANY|verification_status_Verified|verification_status_Source Verified|verification_status_Not Verified|type_Joint App|type_INDIVIDUAL|type_DIRECT_PAY|type_JOINT|state_encoded|purpose_encoded|letter_grade|prev_issue_date_same_grade|prev_loan_amount_same_grade|prev_issue_date_same_state_grade|prev_loan_amount_same_state_grade|\n",
      "+--------------------+--------------------+----------+--------------+----------+----------------+-------------------+--------+----------+-----------+-----------+-------+-----------+-----------+-----+-------------+----------+--------+-----+----------+----------+----------+------------------+--------------------+------------------+-------------------+-----------------------+------------------+----------------------------+-----------------------------------+--------------------------------+--------------+---------------+---------------+----------+-------------+---------------+------------+--------------------------+---------------------------+--------------------------------+---------------------------------+\n",
      "|YicpXHg4Y3dcblx4O...|             Teacher|      10.0|      MORTGAGE|   65000.0|             0.0|           Verified|   996xx|        AK|     9330.0|    83966.0| 172659| Fully Paid|    17000.0|   AK|      17000.0| 36 months|  0.1099|    8|2014-03-14|     false|INDIVIDUAL|       credit_card|Credit card refin...|                 0|                  0|                      1|                 0|                           1|                                  0|                               0|             0|              1|              0|         0|         47.0|            1.0|           B|                2014-03-14|                     7000.0|                            NULL|                             NULL|\n",
      "|YiIzfnYuRlx4ODQ3X...|              Pastor|      10.0|           OWN|   39000.0|             0.0|           Verified|   997xx|        AK|     4703.0|    37622.0|  92579| Fully Paid|    10000.0|   AK|      10000.0| 36 months|  0.1199|   10|2014-03-14|     false|INDIVIDUAL|       credit_card|Credit card refin...|                 1|                  0|                      0|                 0|                           1|                                  0|                               0|             0|              1|              0|         0|         47.0|            1.0|           B|                2014-03-14|                     2500.0|                      2014-03-14|                          17000.0|\n",
      "|YiJceGIzXHgxNml7J...|Asst. Branch Manager|       4.0|      MORTGAGE|   52000.0|             0.0|    Source Verified|   996xx|        AK|    23756.0|   190048.0| 212642|    Current|    23000.0|   AK|      23000.0| 60 months|  0.1049|    7|2014-12-14|     false|INDIVIDUAL|       credit_card|Credit card refin...|                 0|                  0|                      1|                 0|                           0|                                  1|                               0|             0|              1|              0|         0|         47.0|            1.0|           B|                2014-12-14|                    20000.0|                      2014-03-14|                          10000.0|\n",
      "|YidpQTNceDhkXHhkN...|             Teacher|      10.0|           OWN|   72000.0|             0.0|       Not Verified|   996xx|        AK|     6921.0|    62287.0| 190937|Charged Off|    20000.0|   AK|      20000.0| 36 months|  0.0917|   10|2015-12-15|     false|Individual|       credit_card|Credit card refin...|                 1|                  0|                      0|                 0|                           0|                                  0|                               1|             0|              0|              0|         0|         47.0|            1.0|           B|                2015-12-15|                    35000.0|                      2014-12-14|                          23000.0|\n",
      "|Yic7XHg5Y1x4ZDhZX...|    staff accountant|       1.0|          RENT|   54000.0|             0.0|    Source Verified|   995xx|        AK|     5507.0|    27537.0| 120238|    Current|    12000.0|   AK|      12000.0| 36 months|  0.1099|    7|2016-07-16|     false|INDIVIDUAL|       credit_card|Credit card refin...|                 0|                  1|                      0|                 0|                           0|                                  1|                               0|             0|              1|              0|         0|         47.0|            1.0|           B|                2016-07-16|                     7000.0|                      2015-12-15|                          20000.0|\n",
      "|YiduXHhjZlx4ODdce...|             Teacher|      10.0|           OWN|   70000.0|             0.0|    Source Verified|   995xx|        AK|     3895.0|    38945.0| 120113|    Current|    12000.0|   AK|      12000.0| 36 months|  0.1099|    7|2016-08-16|     false|INDIVIDUAL|           medical|    Medical expenses|                 1|                  0|                      0|                 0|                           0|                                  1|                               0|             0|              1|              0|         0|         47.0|            5.0|           B|                2016-08-16|                     1800.0|                      2016-07-16|                          12000.0|\n",
      "|YidsXHhjZlx4YWZbP...|                  Rn|       3.0|          RENT|  180000.0|             0.0|    Source Verified|   995xx|        AK|     3326.0|    46564.0| 184772|    Current|    19200.0|   AK|      19200.0| 36 months|  0.0949|    8|2016-08-16|     false|INDIVIDUAL|debt_consolidation|  Debt consolidation|                 0|                  1|                      0|                 0|                           0|                                  1|                               0|             0|              1|              0|         0|         47.0|            0.0|           B|                2016-08-16|                     3200.0|                      2016-08-16|                          12000.0|\n",
      "|YidceGM0WzpceGY0c...|     production mgr.|      10.0|      MORTGAGE|  125000.0|             0.0|    Source Verified|   995xx|        AK|    39140.0|   665377.0| 252455|    Current|    34575.0|   AK|      34575.0| 36 months|  0.1091|    9|2017-11-17|     false|Individual|debt_consolidation|  Debt consolidation|                 0|                  0|                      1|                 0|                           0|                                  1|                               0|             0|              0|              0|         0|         47.0|            0.0|           B|                2017-11-17|                    36000.0|                      2016-08-16|                          19200.0|\n",
      "|YiJDXHhjY1x4ZjMpX...|Operations Manage...|       2.0|      MORTGAGE|  254000.0|             0.0|    Source Verified|   997xx|        AK|    44033.0|   660495.0| 258134|    Current|    35000.0|   AK|      35000.0| 60 months|  0.0993|    9|2018-02-18|     false|Individual|             house|         Home buying|                 0|                  0|                      1|                 0|                           0|                                  1|                               0|             0|              0|              0|         0|         47.0|            8.0|           B|                2018-02-18|                     7900.0|                      2017-11-17|                          34575.0|\n",
      "|Yicve1x4OTBceGNiQ...|       Sales Manager|      10.0|      MORTGAGE|   30000.0|        102000.0|    Source Verified|   996xx|        AK|    13496.0|    80977.0|  29293|    Current|     5000.0|   AK|       5000.0| 36 months|  0.1106|    6|2018-07-18|     false| Joint App|               car|       Car financing|                 0|                  0|                      1|                 0|                           0|                                  1|                               0|             1|              0|              0|         0|         47.0|            6.0|           B|                2018-07-18|                    15000.0|                      2018-02-18|                          35000.0|\n",
      "|YidceGM3XHgwYz9ce...|             Teacher|       0.5|           OWN|   43264.0|             0.0|    Source Verified|   996xx|        AK|     5892.0|    41245.0|  65506|    Current|     8000.0|   AK|       8000.0| 36 months|  0.1102|    9|2019-05-19|     false|Individual|    major_purchase|      Major purchase|                 1|                  0|                      0|                 0|                           0|                                  1|                               0|             0|              0|              0|         0|         47.0|            4.0|           B|                2019-05-19|                    16000.0|                      2018-07-18|                           5000.0|\n",
      "|YidceGQwXHhlOVx4Z...|          Field Tech|       2.0|          RENT|   50000.0|             0.0|           Verified|   995xx|        AK|     2308.0|    13849.0| 155732|    Current|    15000.0|   AK|      15000.0| 60 months|   0.124|   10|2019-07-19|     false|Individual|       credit_card|Credit card refin...|                 0|                  1|                      0|                 0|                           1|                                  0|                               0|             0|              0|              0|         0|         47.0|            1.0|           B|                2019-07-19|                    40000.0|                      2019-05-19|                           8000.0|\n",
      "|YidceGMxXHhiOFx4Z...|          Principal |       4.0|          RENT|  120000.0|             0.0|       Not Verified|   996xx|        AK|     6583.0|    39495.0| 241907|    Current|    30000.0|   AK|      30000.0| 36 months|   0.124|    7|2019-12-19|     false|Individual|debt_consolidation|  Debt consolidation|                 0|                  1|                      0|                 0|                           0|                                  0|                               1|             0|              0|              0|         0|         47.0|            0.0|           B|                2019-12-19|                    38275.0|                      2019-07-19|                          15000.0|\n",
      "|Yid0XHhhZlx4ZWRce...|General Communica...|       2.0|          RENT|   80850.0|             0.0|           Verified|   996xx|        AK|     9279.0|    83515.0| 212127|Charged Off|    23000.0|   AK|      23000.0| 36 months|  0.2149|   22|2013-06-13|     false|INDIVIDUAL|       credit_card|   Get out of Debt#1|                 0|                  1|                      0|                 0|                           1|                                  0|                               0|             0|              1|              0|         0|         47.0|            1.0|           E|                2013-06-13|                    25000.0|                            NULL|                             NULL|\n",
      "|Yidcclx4OWF5XHg5N...|               Owner|       9.0|          RENT|  160000.0|             0.0|    Source Verified|   996xx|        AK|     2199.0|    13192.0| 246153| Fully Paid|    30000.0|   AK|      30000.0| 60 months|  0.1884|   25|2015-03-15|     false|Individual|    small_business|            Business|                 0|                  1|                      0|                 0|                           0|                                  1|                               0|             0|              0|              0|         0|         47.0|            7.0|           E|                2015-03-15|                    15000.0|                      2013-06-13|                          23000.0|\n",
      "|YidjLlx4ODRceGZjX...|Tribal Administrator|      10.0|           OWN|  100000.0|             0.0|       Not Verified|   997xx|        AK|     4791.0|   100614.0| 104094|    Current|    10000.0|   AK|      10000.0| 60 months|  0.2449|   25|2016-08-16|     false|INDIVIDUAL|             other|               Other|                 1|                  0|                      0|                 0|                           0|                                  0|                               1|             0|              1|              0|         0|         47.0|            3.0|           E|                2016-08-16|                    12600.0|                      2015-03-15|                          30000.0|\n",
      "|YidceDFkXHhjMFx4Z...|   Business Director|       1.0|      MORTGAGE|   65000.0|             0.0|       Not Verified|   998xx|        AK|    40693.0|   447627.0| 159108|Charged Off|    15000.0|   AK|      15000.0| 60 months|  0.2869|   29|2017-01-17|     false|Individual|debt_consolidation|  Debt consolidation|                 0|                  0|                      1|                 0|                           0|                                  0|                               1|             0|              0|              0|         0|         47.0|            0.0|           F|                2017-01-17|                    12000.0|                            NULL|                             NULL|\n",
      "|YicpXHJ0XHhkNUdce...| TARPING SYSTEMS INC|       3.0|      MORTGAGE|   35000.0|             0.0|       Not Verified|   363xx|        AL|    26674.0|   160041.0|    314| Fully Paid|     1000.0|   AL|       1000.0| 36 months|  0.1114|    8|2012-11-12|     false|INDIVIDUAL|    major_purchase|      Major purchase|                 0|                  0|                      1|                 0|                           0|                                  0|                               1|             0|              1|              0|         0|         24.0|            4.0|           B|                2012-11-12|                     4800.0|                            NULL|                             NULL|\n",
      "|YidceDFkTlx4ZGVce...|georgia fence who...|      10.0|      MORTGAGE|   40000.0|             0.0|           Verified|   368xx|        AL|    16891.0|    67562.0| 175423| Fully Paid|    17625.0|   AL|      17625.0| 36 months|  0.1409|   10|2013-01-13|     false|INDIVIDUAL|debt_consolidation|  Debt consolidation|                 0|                  0|                      1|                 0|                           1|                                  0|                               0|             0|              1|              0|         0|         24.0|            0.0|           B|                2013-01-13|                    10000.0|                      2012-11-12|                           1000.0|\n",
      "|YidceGViXHg4ZVVLM...|   HIH International|       3.0|      MORTGAGE|   65000.0|             0.0|       Not Verified|   350xx|        AL|     2007.0|    10033.0|  78466|Charged Off|     9500.0|   AL|       9500.0| 36 months|  0.1311|    6|2013-01-13|     false|INDIVIDUAL|debt_consolidation|           Good Year|                 0|                  0|                      1|                 0|                           0|                                  0|                               1|             0|              1|              0|         0|         24.0|            0.0|           B|                2013-01-13|                    18125.0|                      2013-01-13|                          17625.0|\n",
      "+--------------------+--------------------+----------+--------------+----------+----------------+-------------------+--------+----------+-----------+-----------+-------+-----------+-----------+-----+-------------+----------+--------+-----+----------+----------+----------+------------------+--------------------+------------------+-------------------+-----------------------+------------------+----------------------------+-----------------------------------+--------------------------------+--------------+---------------+---------------+----------+-------------+---------------+------------+--------------------------+---------------------------+--------------------------------+---------------------------------+\n",
      "only showing top 20 rows\n",
      "\n"
     ]
    }
   ],
   "source": [
    "\n",
    "window = Window.partitionBy(\"state\", \"letter_grade\").orderBy(\"issue_date\")\n",
    "##3\n",
    "df_feat_eng = df_feat_eng.withColumn(\n",
    "    \"prev_issue_date_same_state_grade\",\n",
    "    lag(\"issue_date\", 1).over(window)\n",
    ")\n",
    "\n",
    "##4\n",
    "df_feat_eng = df_feat_eng.withColumn(\n",
    "    \"prev_loan_amount_same_state_grade\",\n",
    "    lag(\"loan_amount\", 1).over(window)\n",
    ")\n",
    "\n",
    "df_feat_eng.show()\n"
   ]
  },
  {
   "cell_type": "markdown",
   "metadata": {},
   "source": [
    "## Part 5: Analysis SQL vs Spark\n"
   ]
  },
  {
   "cell_type": "markdown",
   "metadata": {},
   "source": [
    "Identify the average loan amount and interest rate for loans marked as\n",
    "\"Default\" in the Loan Status, grouped by Emp Length and annual income ranges.\n",
    "Hint: Use SQL Cases to bin Annual Income into Income Ranges"
   ]
  },
  {
   "cell_type": "code",
   "execution_count": 85,
   "metadata": {},
   "outputs": [
    {
     "name": "stdout",
     "output_type": "stream",
     "text": [
      "+----------+------------+---------------+-------------------+\n",
      "|emp_length|income_range|avg_loan_amount|       avg_int_rate|\n",
      "+----------+------------+---------------+-------------------+\n",
      "|       0.5|       0-47K|        14087.5|0.19285000000000002|\n",
      "+----------+------------+---------------+-------------------+\n",
      "\n"
     ]
    }
   ],
   "source": [
    "\n",
    "\n",
    "df_feat_eng.createOrReplaceTempView(\"loans\")\n",
    "inc_groups=df_feat_eng.approxQuantile('annual_inc', [0.25, 0.5, 0.75], 0)\n",
    "min_value = df.select(min(\"annual_inc\")).collect()[0][0]\n",
    "max_value = df.select(max(\"annual_inc\")).collect()[0][0]\n",
    "# loan_labels = [f'{int(bins[i])}-{int(bins[i+1])}K' for i in range(len(bins)-1)]\n",
    "query = f\"\"\"\n",
    "SELECT \n",
    "    emp_length,\n",
    "    CASE \n",
    "        WHEN annual_inc < {inc_groups[0]} THEN '{int(min_value/1000)}-{int(inc_groups[0]/1000)}K'\n",
    "        WHEN annual_inc < {inc_groups[1]} THEN '{int(inc_groups[0]/1000)}-{int(inc_groups[1]/1000)}K'\n",
    "        WHEN annual_inc < {inc_groups[2]} THEN '{int(inc_groups[1]/1000)}-{int(inc_groups[2]/1000)}K'\n",
    "        ELSE '{int(inc_groups[2]/10000)}-{int(max_value/1000)}K' \n",
    "    END AS income_range,\n",
    "    AVG(loan_amount) AS avg_loan_amount,\n",
    "    AVG(int_rate) AS avg_int_rate\n",
    "FROM loans\n",
    "WHERE loan_status = 'Default'\n",
    "GROUP BY emp_length, income_range\n",
    "\"\"\"\n",
    "\n",
    "\n",
    "sql_df = spark.sql(query)\n",
    "sql_df.show()"
   ]
  },
  {
   "cell_type": "code",
   "execution_count": 86,
   "metadata": {},
   "outputs": [],
   "source": [
    "# print(inc_groups)\n",
    "# query = f\"\"\"SELECT * FROM loans WHERE loan_status = 'Default'\"\"\"\n",
    "# sql_df = spark.sql(query)\n",
    "# sql_df.show()\n"
   ]
  },
  {
   "cell_type": "code",
   "execution_count": 87,
   "metadata": {},
   "outputs": [
    {
     "name": "stdout",
     "output_type": "stream",
     "text": [
      "+----------+------------+----------------+-------------------+\n",
      "|emp_length|income_range|avg(loan_amount)|      avg(int_rate)|\n",
      "+----------+------------+----------------+-------------------+\n",
      "|       0.5|       0-47K|         14087.5|0.19285000000000002|\n",
      "+----------+------------+----------------+-------------------+\n",
      "\n"
     ]
    }
   ],
   "source": [
    "\n",
    "#  WHEN annual_inc < {inc_groups[0]} THEN '{int(min_value/1000)}-{int(inc_groups[0]/1000)}K'\n",
    "#         WHEN annual_inc < {inc_groups[1]} THEN '{int(inc_groups[0]/1000)}-{int(inc_groups[1]/1000)}K'\n",
    "#         WHEN annual_inc < {inc_groups[2]} THEN '{int(inc_groups[1]/1000)}-{int(inc_groups[2]/1000)}K'\n",
    "#         ELSE '{int(inc_groups[2]/10000)}-{int(max_value/1000)}K' \n",
    "df_feat_eng_temp = df_feat_eng.withColumn(\n",
    "    \"income_range\",\n",
    "    when(df_feat_eng['annual_inc'] < inc_groups[0], f'{int(min_value/1000)}-{int(inc_groups[0]/1000)}K')\n",
    "    .when((df_feat_eng['annual_inc'] >= inc_groups[0]) & (df_feat_eng['annual_inc'] < inc_groups[1]),f'{int(inc_groups[0]/1000)}-{int(inc_groups[1]/1000)}K')\n",
    "        .when((df_feat_eng['annual_inc'] >= inc_groups[1]) & (df_feat_eng['annual_inc'] < inc_groups[2]),f'{int(inc_groups[1]/1000)}-{int(inc_groups[2]/1000)}K')\n",
    "            .when((df_feat_eng['annual_inc'] >= inc_groups[2]),f'{int(inc_groups[2]/1000)}--{int(max_value/1000)}K')\n",
    ")\n",
    "\n",
    "pyspark_df = (\n",
    "    df_feat_eng_temp.filter(df_feat_eng_temp['loan_status'] == \"Default\")\n",
    "    .groupBy(\"emp_length\", \"income_range\")\n",
    "    .agg({\"loan_amount\": \"avg\", \"int_rate\": \"avg\"})\n",
    ")\n",
    "\n",
    "pyspark_df.show()\n"
   ]
  },
  {
   "cell_type": "markdown",
   "metadata": {},
   "source": [
    "Calculate the average difference between Loan Amount and Funded Amount for each\n",
    "loan Grade and sort by the grades with the largest differences."
   ]
  },
  {
   "cell_type": "code",
   "execution_count": 88,
   "metadata": {},
   "outputs": [
    {
     "name": "stdout",
     "output_type": "stream",
     "text": [
      "+------------+---------------+\n",
      "|letter_grade|avg_amount_diff|\n",
      "+------------+---------------+\n",
      "|           F|            0.0|\n",
      "|           E|            0.0|\n",
      "|           B|            0.0|\n",
      "|           D|            0.0|\n",
      "|           C|            0.0|\n",
      "|           A|            0.0|\n",
      "|           G|            0.0|\n",
      "+------------+---------------+\n",
      "\n"
     ]
    }
   ],
   "source": [
    "\n",
    "\n",
    "\n",
    "query = f\"\"\"\n",
    "SELECT \n",
    "    letter_grade,\n",
    "    avg(loan_amount-funded_amount) as avg_amount_diff\n",
    "From loans\n",
    "GROUP by letter_grade\n",
    "order by avg_amount_diff desc\n",
    "\"\"\"\n",
    "\n",
    "\n",
    "sql_df = spark.sql(query)\n",
    "sql_df.show()"
   ]
  },
  {
   "cell_type": "code",
   "execution_count": 89,
   "metadata": {},
   "outputs": [
    {
     "name": "stdout",
     "output_type": "stream",
     "text": [
      "+------------+----------------+\n",
      "|letter_grade|avg(amount_diff)|\n",
      "+------------+----------------+\n",
      "|           F|             0.0|\n",
      "|           E|             0.0|\n",
      "|           B|             0.0|\n",
      "|           D|             0.0|\n",
      "|           C|             0.0|\n",
      "|           A|             0.0|\n",
      "|           G|             0.0|\n",
      "+------------+----------------+\n",
      "\n"
     ]
    }
   ],
   "source": [
    "\n",
    "df_feat_eng_temp = df_feat_eng.withColumn(\n",
    "                        \"amount_diff\", \n",
    "                        df_feat_eng[\"loan_amount\"] - df_feat_eng[\"funded_amount\"])\n",
    "\n",
    "pyspark_df = (\n",
    "    df_feat_eng_temp.groupBy(\"letter_grade\")\n",
    "    .agg({\"amount_diff\": \"avg\"})\n",
    "    .orderBy(\"avg(amount_diff)\", ascending=False)\n",
    ")\n",
    "\n",
    "pyspark_df.show()\n"
   ]
  },
  {
   "cell_type": "markdown",
   "metadata": {},
   "source": [
    "Compare the total Loan Amount for loans with \"Verified\" and \"Not Verified\"\n",
    "Verification Status across each state (Addr State)."
   ]
  },
  {
   "cell_type": "code",
   "execution_count": 90,
   "metadata": {},
   "outputs": [
    {
     "name": "stdout",
     "output_type": "stream",
     "text": [
      "+-----+--------------------------+------------------------------+\n",
      "|state|total_verified_loan_amount|total_not_verified_loan_amount|\n",
      "+-----+--------------------------+------------------------------+\n",
      "|   SC|                 1295175.0|                     1793700.0|\n",
      "|   AZ|                 2615100.0|                     3053825.0|\n",
      "|   LA|                 1494225.0|                     1241750.0|\n",
      "|   MN|                 2084925.0|                     2297375.0|\n",
      "|   NJ|                 4928675.0|                     4515200.0|\n",
      "|   DC|                  220500.0|                      238625.0|\n",
      "|   OR|                 1325125.0|                     1461900.0|\n",
      "|   VA|                 3952500.0|                     3397100.0|\n",
      "|   RI|                  441025.0|                      432025.0|\n",
      "|   WY|                  284125.0|                      248375.0|\n",
      "|   KY|                  943800.0|                     1471350.0|\n",
      "|   NH|                  505075.0|                      631325.0|\n",
      "|   MI|                 3060200.0|                     3326500.0|\n",
      "|   NV|                 2026450.0|                     1738875.0|\n",
      "|   WI|                 1306350.0|                     1642725.0|\n",
      "|   ID|                  230850.0|                      411075.0|\n",
      "|   CA|               1.7315825E7|                   1.7385025E7|\n",
      "|   CT|                 1707000.0|                     2144325.0|\n",
      "|   NE|                  398475.0|                      300850.0|\n",
      "|   MT|                  418700.0|                      370075.0|\n",
      "+-----+--------------------------+------------------------------+\n",
      "only showing top 20 rows\n",
      "\n"
     ]
    }
   ],
   "source": [
    "\n",
    "\n",
    "\n",
    "query = f\"\"\"\n",
    "select state,sum(verified_loan_amount) AS total_verified_loan_amount,\n",
    "    sum(not_verified_loan_amount) AS total_not_verified_loan_amount\n",
    "from \n",
    "(\n",
    "SELECT \n",
    "    state,\n",
    "    CASE when verification_status = 'Verified' then loan_amount Else 0 END as verified_loan_amount,\n",
    "    CASE when verification_status = 'Not Verified' then loan_amount Else 0 END as not_verified_loan_amount\n",
    "    \n",
    "From loans\n",
    "\n",
    ") subquery\n",
    "group by state\n",
    "\"\"\"\n",
    "\n",
    "sql_df = spark.sql(query)\n",
    "sql_df.show()"
   ]
  },
  {
   "cell_type": "code",
   "execution_count": 91,
   "metadata": {},
   "outputs": [
    {
     "name": "stdout",
     "output_type": "stream",
     "text": [
      "+-----+-------------------------+-----------------------------+\n",
      "|state|sum(verified_loan_amount)|sum(not_verified_loan_amount)|\n",
      "+-----+-------------------------+-----------------------------+\n",
      "|   SC|                1295175.0|                    1793700.0|\n",
      "|   AZ|                2615100.0|                    3053825.0|\n",
      "|   LA|                1494225.0|                    1241750.0|\n",
      "|   MN|                2084925.0|                    2297375.0|\n",
      "|   NJ|                4928675.0|                    4515200.0|\n",
      "|   DC|                 220500.0|                     238625.0|\n",
      "|   OR|                1325125.0|                    1461900.0|\n",
      "|   VA|                3952500.0|                    3397100.0|\n",
      "|   RI|                 441025.0|                     432025.0|\n",
      "|   WY|                 284125.0|                     248375.0|\n",
      "|   KY|                 943800.0|                    1471350.0|\n",
      "|   NH|                 505075.0|                     631325.0|\n",
      "|   MI|                3060200.0|                    3326500.0|\n",
      "|   NV|                2026450.0|                    1738875.0|\n",
      "|   WI|                1306350.0|                    1642725.0|\n",
      "|   ID|                 230850.0|                     411075.0|\n",
      "|   CA|              1.7315825E7|                  1.7385025E7|\n",
      "|   CT|                1707000.0|                    2144325.0|\n",
      "|   NE|                 398475.0|                     300850.0|\n",
      "|   MT|                 418700.0|                     370075.0|\n",
      "+-----+-------------------------+-----------------------------+\n",
      "only showing top 20 rows\n",
      "\n"
     ]
    }
   ],
   "source": [
    "\n",
    "df_feat_eng_temp = df_feat_eng.withColumn(\n",
    "                        \"verified_loan_amount\", \n",
    "                        when (df_feat_eng['verification_status'] == 'Verified',df_feat_eng['loan_amount']).otherwise(0))\n",
    "df_feat_eng_temp = df_feat_eng_temp.withColumn(\n",
    "                        \"not_verified_loan_amount\", \n",
    "                        when (df_feat_eng['verification_status'] == 'Not Verified',df_feat_eng['loan_amount']).otherwise(0))\n",
    "\n",
    "pyspark_df = (\n",
    "    df_feat_eng_temp.groupBy(\"state\")\n",
    "    .agg({\"verified_loan_amount\": \"sum\",\"not_verified_loan_amount\": \"sum\"})\n",
    "    \n",
    ")\n",
    "\n",
    "pyspark_df.show()\n"
   ]
  },
  {
   "cell_type": "markdown",
   "metadata": {},
   "source": [
    "Calculate the average time gap (in days) between consecutive loans for each\n",
    "grade using the new features you added in the feature engineering phase"
   ]
  },
  {
   "cell_type": "code",
   "execution_count": 92,
   "metadata": {},
   "outputs": [
    {
     "name": "stdout",
     "output_type": "stream",
     "text": [
      "+------------+-------------------+\n",
      "|letter_grade|       avg_time_gap|\n",
      "+------------+-------------------+\n",
      "|           A| 0.4764017033356991|\n",
      "|           B|0.33782083543029695|\n",
      "|           C| 0.3531036296685955|\n",
      "|           D| 0.6761521027449006|\n",
      "|           E|  1.824981301421092|\n",
      "|           F|  5.480582524271845|\n",
      "|           G|  19.36521739130435|\n",
      "+------------+-------------------+\n",
      "\n"
     ]
    }
   ],
   "source": [
    "query = f\"\"\"\n",
    "select letter_grade,\n",
    "avg(DATEDIFF(day,prev_issue_date_same_grade,issue_date)) as avg_time_gap\n",
    "from loans\n",
    "group by letter_grade\n",
    "\n",
    "\"\"\"\n",
    "sql_df = spark.sql(query)\n",
    "sql_df.show()"
   ]
  },
  {
   "cell_type": "code",
   "execution_count": 93,
   "metadata": {},
   "outputs": [
    {
     "name": "stdout",
     "output_type": "stream",
     "text": [
      "+------------+-------------------+\n",
      "|letter_grade|      avg(time_gap)|\n",
      "+------------+-------------------+\n",
      "|           A| 0.4764017033356991|\n",
      "|           B|0.33782083543029695|\n",
      "|           C| 0.3531036296685955|\n",
      "|           D| 0.6761521027449006|\n",
      "|           E|  1.824981301421092|\n",
      "|           F|  5.480582524271845|\n",
      "|           G|  19.36521739130435|\n",
      "+------------+-------------------+\n",
      "\n"
     ]
    }
   ],
   "source": [
    "\n",
    "df_feat_eng_temp = df_feat_eng.withColumn(\n",
    "                        \"time_gap\", \n",
    "                        datediff(df_feat_eng['issue_date'],df_feat_eng['prev_issue_date_same_grade']))\n",
    "\n",
    "pyspark_df = (\n",
    "    df_feat_eng_temp.groupBy(\"letter_grade\")\n",
    "    .agg({\"time_gap\": \"avg\"})\n",
    "    \n",
    ")\n",
    "\n",
    "pyspark_df.show()\n"
   ]
  },
  {
   "cell_type": "markdown",
   "metadata": {},
   "source": [
    "Identify the average difference in loan amounts between consecutive loans\n",
    "within the same state and grade combination."
   ]
  },
  {
   "cell_type": "code",
   "execution_count": 94,
   "metadata": {},
   "outputs": [
    {
     "name": "stdout",
     "output_type": "stream",
     "text": [
      "+------------+-----+-------------------+\n",
      "|letter_grade|state|    avg_amount_diff|\n",
      "+------------+-----+-------------------+\n",
      "|           A|   AK|               50.0|\n",
      "|           B|   AK|-1666.6666666666667|\n",
      "|           C|   AK|           382.8125|\n",
      "|           D|   AK| -661.3636363636364|\n",
      "|           E|   AK|             6500.0|\n",
      "|           F|   AK|               NULL|\n",
      "|           A|   AL| -495.5357142857143|\n",
      "|           B|   AL|-15.555555555555555|\n",
      "|           C|   AL|  38.57142857142857|\n",
      "|           D|   AL|-168.13725490196077|\n",
      "|           E|   AL|-198.68421052631578|\n",
      "|           F|   AL|            -2062.5|\n",
      "|           G|   AL|               NULL|\n",
      "|           A|   AR|             -400.0|\n",
      "|           B|   AR| -88.13559322033899|\n",
      "|           C|   AR|           -98.4375|\n",
      "|           D|   AR|-192.36111111111111|\n",
      "|           E|   AR|-486.53846153846155|\n",
      "|           F|   AR| 2216.6666666666665|\n",
      "|           G|   AR|               NULL|\n",
      "+------------+-----+-------------------+\n",
      "only showing top 20 rows\n",
      "\n"
     ]
    }
   ],
   "source": [
    "\n",
    "\n",
    "query = f\"\"\"\n",
    "select letter_grade,\n",
    "state,\n",
    "avg(prev_loan_amount_same_state_grade-loan_amount) as avg_amount_diff\n",
    "from loans\n",
    "group by letter_grade,state\n",
    "\n",
    "\"\"\"\n",
    "sql_df = spark.sql(query)\n",
    "sql_df.show()"
   ]
  },
  {
   "cell_type": "code",
   "execution_count": 95,
   "metadata": {},
   "outputs": [
    {
     "name": "stdout",
     "output_type": "stream",
     "text": [
      "+------------+-----+-------------------+\n",
      "|letter_grade|state|   avg(amount_diff)|\n",
      "+------------+-----+-------------------+\n",
      "|           A|   AK|               50.0|\n",
      "|           B|   AK|-1666.6666666666667|\n",
      "|           C|   AK|           382.8125|\n",
      "|           D|   AK| -661.3636363636364|\n",
      "|           E|   AK|             6500.0|\n",
      "|           F|   AK|               NULL|\n",
      "|           A|   AL| -495.5357142857143|\n",
      "|           B|   AL|-15.555555555555555|\n",
      "|           C|   AL|  38.57142857142857|\n",
      "|           D|   AL|-168.13725490196077|\n",
      "|           E|   AL|-198.68421052631578|\n",
      "|           F|   AL|            -2062.5|\n",
      "|           G|   AL|               NULL|\n",
      "|           A|   AR|             -400.0|\n",
      "|           B|   AR| -88.13559322033899|\n",
      "|           C|   AR|           -98.4375|\n",
      "|           D|   AR|-192.36111111111111|\n",
      "|           E|   AR|-486.53846153846155|\n",
      "|           F|   AR| 2216.6666666666665|\n",
      "|           G|   AR|               NULL|\n",
      "+------------+-----+-------------------+\n",
      "only showing top 20 rows\n",
      "\n"
     ]
    }
   ],
   "source": [
    "\n",
    "df_feat_eng_temp = df_feat_eng.withColumn(\n",
    "                        \"amount_diff\", \n",
    "                        df_feat_eng[\"prev_loan_amount_same_state_grade\"] - df_feat_eng[\"loan_amount\"])\n",
    "                        \n",
    "\n",
    "pyspark_df = (\n",
    "    df_feat_eng_temp.groupBy(\"letter_grade\",\"state\")\n",
    "    .agg({\"amount_diff\": \"avg\"})\n",
    "    \n",
    ")\n",
    "\n",
    "pyspark_df.show()\n"
   ]
  },
  {
   "cell_type": "markdown",
   "metadata": {},
   "source": [
    "## Part 6: Lookup Table & Saving the dataset"
   ]
  },
  {
   "cell_type": "code",
   "execution_count": 96,
   "metadata": {},
   "outputs": [
    {
     "data": {
      "text/plain": [
       "[{'Column': 'emp_length', 'Original': '< 1 year', 'Encoded': '0.5'},\n",
       " {'Column': 'emp_length', 'Original': '1 year', 'Encoded': '1'},\n",
       " {'Column': 'emp_length', 'Original': '2 years', 'Encoded': '2'},\n",
       " {'Column': 'emp_length', 'Original': '3 years', 'Encoded': '3'},\n",
       " {'Column': 'emp_length', 'Original': '4 years', 'Encoded': '4'},\n",
       " {'Column': 'emp_length', 'Original': '5 years', 'Encoded': '5'},\n",
       " {'Column': 'emp_length', 'Original': '6 years', 'Encoded': '6'},\n",
       " {'Column': 'emp_length', 'Original': '7 years', 'Encoded': '7'},\n",
       " {'Column': 'emp_length', 'Original': '8 years', 'Encoded': '8'},\n",
       " {'Column': 'emp_length', 'Original': '9 years', 'Encoded': '9'},\n",
       " {'Column': 'emp_length', 'Original': '10+ years', 'Encoded': '10'},\n",
       " {'Column': 'state', 'Original': 'CA', 'Encoded': 0},\n",
       " {'Column': 'state', 'Original': 'NY', 'Encoded': 1},\n",
       " {'Column': 'state', 'Original': 'TX', 'Encoded': 2},\n",
       " {'Column': 'state', 'Original': 'FL', 'Encoded': 3},\n",
       " {'Column': 'state', 'Original': 'IL', 'Encoded': 4},\n",
       " {'Column': 'state', 'Original': 'NJ', 'Encoded': 5},\n",
       " {'Column': 'state', 'Original': 'PA', 'Encoded': 6},\n",
       " {'Column': 'state', 'Original': 'OH', 'Encoded': 7},\n",
       " {'Column': 'state', 'Original': 'GA', 'Encoded': 8},\n",
       " {'Column': 'state', 'Original': 'VA', 'Encoded': 9},\n",
       " {'Column': 'state', 'Original': 'NC', 'Encoded': 10},\n",
       " {'Column': 'state', 'Original': 'MI', 'Encoded': 11},\n",
       " {'Column': 'state', 'Original': 'AZ', 'Encoded': 12},\n",
       " {'Column': 'state', 'Original': 'MD', 'Encoded': 13},\n",
       " {'Column': 'state', 'Original': 'MA', 'Encoded': 14},\n",
       " {'Column': 'state', 'Original': 'CO', 'Encoded': 15},\n",
       " {'Column': 'state', 'Original': 'WA', 'Encoded': 16},\n",
       " {'Column': 'state', 'Original': 'MN', 'Encoded': 17},\n",
       " {'Column': 'state', 'Original': 'CT', 'Encoded': 18},\n",
       " {'Column': 'state', 'Original': 'IN', 'Encoded': 19},\n",
       " {'Column': 'state', 'Original': 'MO', 'Encoded': 20},\n",
       " {'Column': 'state', 'Original': 'NV', 'Encoded': 21},\n",
       " {'Column': 'state', 'Original': 'TN', 'Encoded': 22},\n",
       " {'Column': 'state', 'Original': 'WI', 'Encoded': 23},\n",
       " {'Column': 'state', 'Original': 'AL', 'Encoded': 24},\n",
       " {'Column': 'state', 'Original': 'SC', 'Encoded': 25},\n",
       " {'Column': 'state', 'Original': 'LA', 'Encoded': 26},\n",
       " {'Column': 'state', 'Original': 'OR', 'Encoded': 27},\n",
       " {'Column': 'state', 'Original': 'KY', 'Encoded': 28},\n",
       " {'Column': 'state', 'Original': 'KS', 'Encoded': 29},\n",
       " {'Column': 'state', 'Original': 'OK', 'Encoded': 30},\n",
       " {'Column': 'state', 'Original': 'AR', 'Encoded': 31},\n",
       " {'Column': 'state', 'Original': 'UT', 'Encoded': 32},\n",
       " {'Column': 'state', 'Original': 'MS', 'Encoded': 33},\n",
       " {'Column': 'state', 'Original': 'NM', 'Encoded': 34},\n",
       " {'Column': 'state', 'Original': 'HI', 'Encoded': 35},\n",
       " {'Column': 'state', 'Original': 'NH', 'Encoded': 36},\n",
       " {'Column': 'state', 'Original': 'WV', 'Encoded': 37},\n",
       " {'Column': 'state', 'Original': 'RI', 'Encoded': 38},\n",
       " {'Column': 'state', 'Original': 'NE', 'Encoded': 39},\n",
       " {'Column': 'state', 'Original': 'MT', 'Encoded': 40},\n",
       " {'Column': 'state', 'Original': 'DE', 'Encoded': 41},\n",
       " {'Column': 'state', 'Original': 'VT', 'Encoded': 42},\n",
       " {'Column': 'state', 'Original': 'ID', 'Encoded': 43},\n",
       " {'Column': 'state', 'Original': 'SD', 'Encoded': 44},\n",
       " {'Column': 'state', 'Original': 'DC', 'Encoded': 45},\n",
       " {'Column': 'state', 'Original': 'ME', 'Encoded': 46},\n",
       " {'Column': 'state', 'Original': 'AK', 'Encoded': 47},\n",
       " {'Column': 'state', 'Original': 'WY', 'Encoded': 48},\n",
       " {'Column': 'state', 'Original': 'ND', 'Encoded': 49},\n",
       " {'Column': 'purpose', 'Original': 'debt_consolidation', 'Encoded': 0},\n",
       " {'Column': 'purpose', 'Original': 'credit_card', 'Encoded': 1},\n",
       " {'Column': 'purpose', 'Original': 'home_improvement', 'Encoded': 2},\n",
       " {'Column': 'purpose', 'Original': 'other', 'Encoded': 3},\n",
       " {'Column': 'purpose', 'Original': 'major_purchase', 'Encoded': 4},\n",
       " {'Column': 'purpose', 'Original': 'medical', 'Encoded': 5},\n",
       " {'Column': 'purpose', 'Original': 'car', 'Encoded': 6},\n",
       " {'Column': 'purpose', 'Original': 'small_business', 'Encoded': 7},\n",
       " {'Column': 'purpose', 'Original': 'house', 'Encoded': 8},\n",
       " {'Column': 'purpose', 'Original': 'moving', 'Encoded': 9},\n",
       " {'Column': 'purpose', 'Original': 'vacation', 'Encoded': 10},\n",
       " {'Column': 'purpose', 'Original': 'renewable_energy', 'Encoded': 11},\n",
       " {'Column': 'purpose', 'Original': 'wedding', 'Encoded': 12},\n",
       " {'Column': 'grade', 'Original': '1', 'Encoded': 'A'},\n",
       " {'Column': 'grade', 'Original': '2', 'Encoded': 'A'},\n",
       " {'Column': 'grade', 'Original': '3', 'Encoded': 'A'},\n",
       " {'Column': 'grade', 'Original': '4', 'Encoded': 'A'},\n",
       " {'Column': 'grade', 'Original': '5', 'Encoded': 'A'},\n",
       " {'Column': 'grade', 'Original': '6', 'Encoded': 'B'},\n",
       " {'Column': 'grade', 'Original': '7', 'Encoded': 'B'},\n",
       " {'Column': 'grade', 'Original': '8', 'Encoded': 'B'},\n",
       " {'Column': 'grade', 'Original': '9', 'Encoded': 'B'},\n",
       " {'Column': 'grade', 'Original': '10', 'Encoded': 'B'},\n",
       " {'Column': 'grade', 'Original': '11', 'Encoded': 'C'},\n",
       " {'Column': 'grade', 'Original': '12', 'Encoded': 'C'},\n",
       " {'Column': 'grade', 'Original': '13', 'Encoded': 'C'},\n",
       " {'Column': 'grade', 'Original': '14', 'Encoded': 'C'},\n",
       " {'Column': 'grade', 'Original': '15', 'Encoded': 'C'},\n",
       " {'Column': 'grade', 'Original': '16', 'Encoded': 'D'},\n",
       " {'Column': 'grade', 'Original': '17', 'Encoded': 'D'},\n",
       " {'Column': 'grade', 'Original': '18', 'Encoded': 'D'},\n",
       " {'Column': 'grade', 'Original': '19', 'Encoded': 'D'},\n",
       " {'Column': 'grade', 'Original': '20', 'Encoded': 'D'},\n",
       " {'Column': 'grade', 'Original': '21', 'Encoded': 'E'},\n",
       " {'Column': 'grade', 'Original': '22', 'Encoded': 'E'},\n",
       " {'Column': 'grade', 'Original': '23', 'Encoded': 'E'},\n",
       " {'Column': 'grade', 'Original': '24', 'Encoded': 'E'},\n",
       " {'Column': 'grade', 'Original': '25', 'Encoded': 'E'},\n",
       " {'Column': 'grade', 'Original': '26', 'Encoded': 'F'},\n",
       " {'Column': 'grade', 'Original': '27', 'Encoded': 'F'},\n",
       " {'Column': 'grade', 'Original': '28', 'Encoded': 'F'},\n",
       " {'Column': 'grade', 'Original': '29', 'Encoded': 'F'},\n",
       " {'Column': 'grade', 'Original': '30', 'Encoded': 'F'},\n",
       " {'Column': 'grade', 'Original': '31', 'Encoded': 'G'},\n",
       " {'Column': 'grade', 'Original': '32', 'Encoded': 'G'},\n",
       " {'Column': 'grade', 'Original': '33', 'Encoded': 'G'},\n",
       " {'Column': 'grade', 'Original': '34', 'Encoded': 'G'},\n",
       " {'Column': 'grade', 'Original': '35', 'Encoded': 'G'}]"
      ]
     },
     "execution_count": 96,
     "metadata": {},
     "output_type": "execute_result"
    }
   ],
   "source": [
    "lookup"
   ]
  },
  {
   "cell_type": "code",
   "execution_count": 97,
   "metadata": {},
   "outputs": [
    {
     "name": "stderr",
     "output_type": "stream",
     "text": [
      "                                                                                \r"
     ]
    },
    {
     "name": "stdout",
     "output_type": "stream",
     "text": [
      "+----------+-------+---------+\n",
      "|    Column|Encoded| Original|\n",
      "+----------+-------+---------+\n",
      "|emp_length|    0.5| < 1 year|\n",
      "|emp_length|      1|   1 year|\n",
      "|emp_length|      2|  2 years|\n",
      "|emp_length|      3|  3 years|\n",
      "|emp_length|      4|  4 years|\n",
      "|emp_length|      5|  5 years|\n",
      "|emp_length|      6|  6 years|\n",
      "|emp_length|      7|  7 years|\n",
      "|emp_length|      8|  8 years|\n",
      "|emp_length|      9|  9 years|\n",
      "|emp_length|     10|10+ years|\n",
      "|     state|      0|       CA|\n",
      "|     state|      1|       NY|\n",
      "|     state|      2|       TX|\n",
      "|     state|      3|       FL|\n",
      "|     state|      4|       IL|\n",
      "|     state|      5|       NJ|\n",
      "|     state|      6|       PA|\n",
      "|     state|      7|       OH|\n",
      "|     state|      8|       GA|\n",
      "+----------+-------+---------+\n",
      "only showing top 20 rows\n",
      "\n"
     ]
    }
   ],
   "source": [
    "df_lookup = spark.createDataFrame(lookup)\n",
    "\n",
    "output_path = \"data/lookup.parquet\" \n",
    "df_lookup.coalesce(1).write.mode(\"overwrite\").parquet(output_path)\n",
    "\n",
    "df_lookup.show()\n"
   ]
  },
  {
   "cell_type": "code",
   "execution_count": 98,
   "metadata": {},
   "outputs": [
    {
     "name": "stderr",
     "output_type": "stream",
     "text": [
      "[Stage 1271:>                                                       (0 + 1) / 1]\r"
     ]
    },
    {
     "name": "stdout",
     "output_type": "stream",
     "text": [
      "+--------------------+--------------------+----------+--------------+----------+----------------+-------------------+--------+----------+-----------+-----------+-------+-----------+-----------+-----+-------------+----------+--------+-----+----------+----------+----------+------------------+--------------------+------------------+-------------------+-----------------------+------------------+----------------------------+-----------------------------------+--------------------------------+--------------+---------------+---------------+----------+-------------+---------------+------------+--------------------------+---------------------------+--------------------------------+---------------------------------+\n",
      "|         customer_id|           emp_title|emp_length|home_ownership|annual_inc|annual_inc_joint|verification_status|zip_code|addr_state|avg_cur_bal|tot_cur_bal|loan_id|loan_status|loan_amount|state|funded_amount|      term|int_rate|grade|issue_date|pymnt_plan|      type|           purpose|         description|home_ownership_OWN|home_ownership_RENT|home_ownership_MORTGAGE|home_ownership_ANY|verification_status_Verified|verification_status_Source Verified|verification_status_Not Verified|type_Joint App|type_INDIVIDUAL|type_DIRECT_PAY|type_JOINT|state_encoded|purpose_encoded|letter_grade|prev_issue_date_same_grade|prev_loan_amount_same_grade|prev_issue_date_same_state_grade|prev_loan_amount_same_state_grade|\n",
      "+--------------------+--------------------+----------+--------------+----------+----------------+-------------------+--------+----------+-----------+-----------+-------+-----------+-----------+-----+-------------+----------+--------+-----+----------+----------+----------+------------------+--------------------+------------------+-------------------+-----------------------+------------------+----------------------------+-----------------------------------+--------------------------------+--------------+---------------+---------------+----------+-------------+---------------+------------+--------------------------+---------------------------+--------------------------------+---------------------------------+\n",
      "|YicpXHg4Y3dcblx4O...|             Teacher|      10.0|      MORTGAGE|   65000.0|             0.0|           Verified|   996xx|        AK|     9330.0|    83966.0| 172659| Fully Paid|    17000.0|   AK|      17000.0| 36 months|  0.1099|    8|2014-03-14|     false|INDIVIDUAL|       credit_card|Credit card refin...|                 0|                  0|                      1|                 0|                           1|                                  0|                               0|             0|              1|              0|         0|         47.0|            1.0|           B|                2014-03-14|                     7000.0|                            NULL|                             NULL|\n",
      "|YiIzfnYuRlx4ODQ3X...|              Pastor|      10.0|           OWN|   39000.0|             0.0|           Verified|   997xx|        AK|     4703.0|    37622.0|  92579| Fully Paid|    10000.0|   AK|      10000.0| 36 months|  0.1199|   10|2014-03-14|     false|INDIVIDUAL|       credit_card|Credit card refin...|                 1|                  0|                      0|                 0|                           1|                                  0|                               0|             0|              1|              0|         0|         47.0|            1.0|           B|                2014-03-14|                     2500.0|                      2014-03-14|                          17000.0|\n",
      "|YiJceGIzXHgxNml7J...|Asst. Branch Manager|       4.0|      MORTGAGE|   52000.0|             0.0|    Source Verified|   996xx|        AK|    23756.0|   190048.0| 212642|    Current|    23000.0|   AK|      23000.0| 60 months|  0.1049|    7|2014-12-14|     false|INDIVIDUAL|       credit_card|Credit card refin...|                 0|                  0|                      1|                 0|                           0|                                  1|                               0|             0|              1|              0|         0|         47.0|            1.0|           B|                2014-12-14|                    20000.0|                      2014-03-14|                          10000.0|\n",
      "|YidpQTNceDhkXHhkN...|             Teacher|      10.0|           OWN|   72000.0|             0.0|       Not Verified|   996xx|        AK|     6921.0|    62287.0| 190937|Charged Off|    20000.0|   AK|      20000.0| 36 months|  0.0917|   10|2015-12-15|     false|Individual|       credit_card|Credit card refin...|                 1|                  0|                      0|                 0|                           0|                                  0|                               1|             0|              0|              0|         0|         47.0|            1.0|           B|                2015-12-15|                    35000.0|                      2014-12-14|                          23000.0|\n",
      "|Yic7XHg5Y1x4ZDhZX...|    staff accountant|       1.0|          RENT|   54000.0|             0.0|    Source Verified|   995xx|        AK|     5507.0|    27537.0| 120238|    Current|    12000.0|   AK|      12000.0| 36 months|  0.1099|    7|2016-07-16|     false|INDIVIDUAL|       credit_card|Credit card refin...|                 0|                  1|                      0|                 0|                           0|                                  1|                               0|             0|              1|              0|         0|         47.0|            1.0|           B|                2016-07-16|                     7000.0|                      2015-12-15|                          20000.0|\n",
      "|YiduXHhjZlx4ODdce...|             Teacher|      10.0|           OWN|   70000.0|             0.0|    Source Verified|   995xx|        AK|     3895.0|    38945.0| 120113|    Current|    12000.0|   AK|      12000.0| 36 months|  0.1099|    7|2016-08-16|     false|INDIVIDUAL|           medical|    Medical expenses|                 1|                  0|                      0|                 0|                           0|                                  1|                               0|             0|              1|              0|         0|         47.0|            5.0|           B|                2016-08-16|                     1800.0|                      2016-07-16|                          12000.0|\n",
      "|YidsXHhjZlx4YWZbP...|                  Rn|       3.0|          RENT|  180000.0|             0.0|    Source Verified|   995xx|        AK|     3326.0|    46564.0| 184772|    Current|    19200.0|   AK|      19200.0| 36 months|  0.0949|    8|2016-08-16|     false|INDIVIDUAL|debt_consolidation|  Debt consolidation|                 0|                  1|                      0|                 0|                           0|                                  1|                               0|             0|              1|              0|         0|         47.0|            0.0|           B|                2016-08-16|                     3200.0|                      2016-08-16|                          12000.0|\n",
      "|YidceGM0WzpceGY0c...|     production mgr.|      10.0|      MORTGAGE|  125000.0|             0.0|    Source Verified|   995xx|        AK|    39140.0|   665377.0| 252455|    Current|    34575.0|   AK|      34575.0| 36 months|  0.1091|    9|2017-11-17|     false|Individual|debt_consolidation|  Debt consolidation|                 0|                  0|                      1|                 0|                           0|                                  1|                               0|             0|              0|              0|         0|         47.0|            0.0|           B|                2017-11-17|                    36000.0|                      2016-08-16|                          19200.0|\n",
      "|YiJDXHhjY1x4ZjMpX...|Operations Manage...|       2.0|      MORTGAGE|  254000.0|             0.0|    Source Verified|   997xx|        AK|    44033.0|   660495.0| 258134|    Current|    35000.0|   AK|      35000.0| 60 months|  0.0993|    9|2018-02-18|     false|Individual|             house|         Home buying|                 0|                  0|                      1|                 0|                           0|                                  1|                               0|             0|              0|              0|         0|         47.0|            8.0|           B|                2018-02-18|                     7900.0|                      2017-11-17|                          34575.0|\n",
      "|Yicve1x4OTBceGNiQ...|       Sales Manager|      10.0|      MORTGAGE|   30000.0|        102000.0|    Source Verified|   996xx|        AK|    13496.0|    80977.0|  29293|    Current|     5000.0|   AK|       5000.0| 36 months|  0.1106|    6|2018-07-18|     false| Joint App|               car|       Car financing|                 0|                  0|                      1|                 0|                           0|                                  1|                               0|             1|              0|              0|         0|         47.0|            6.0|           B|                2018-07-18|                    15000.0|                      2018-02-18|                          35000.0|\n",
      "|YidceGM3XHgwYz9ce...|             Teacher|       0.5|           OWN|   43264.0|             0.0|    Source Verified|   996xx|        AK|     5892.0|    41245.0|  65506|    Current|     8000.0|   AK|       8000.0| 36 months|  0.1102|    9|2019-05-19|     false|Individual|    major_purchase|      Major purchase|                 1|                  0|                      0|                 0|                           0|                                  1|                               0|             0|              0|              0|         0|         47.0|            4.0|           B|                2019-05-19|                    16000.0|                      2018-07-18|                           5000.0|\n",
      "|YidceGQwXHhlOVx4Z...|          Field Tech|       2.0|          RENT|   50000.0|             0.0|           Verified|   995xx|        AK|     2308.0|    13849.0| 155732|    Current|    15000.0|   AK|      15000.0| 60 months|   0.124|   10|2019-07-19|     false|Individual|       credit_card|Credit card refin...|                 0|                  1|                      0|                 0|                           1|                                  0|                               0|             0|              0|              0|         0|         47.0|            1.0|           B|                2019-07-19|                    40000.0|                      2019-05-19|                           8000.0|\n",
      "|YidceGMxXHhiOFx4Z...|          Principal |       4.0|          RENT|  120000.0|             0.0|       Not Verified|   996xx|        AK|     6583.0|    39495.0| 241907|    Current|    30000.0|   AK|      30000.0| 36 months|   0.124|    7|2019-12-19|     false|Individual|debt_consolidation|  Debt consolidation|                 0|                  1|                      0|                 0|                           0|                                  0|                               1|             0|              0|              0|         0|         47.0|            0.0|           B|                2019-12-19|                    38275.0|                      2019-07-19|                          15000.0|\n",
      "|Yid0XHhhZlx4ZWRce...|General Communica...|       2.0|          RENT|   80850.0|             0.0|           Verified|   996xx|        AK|     9279.0|    83515.0| 212127|Charged Off|    23000.0|   AK|      23000.0| 36 months|  0.2149|   22|2013-06-13|     false|INDIVIDUAL|       credit_card|   Get out of Debt#1|                 0|                  1|                      0|                 0|                           1|                                  0|                               0|             0|              1|              0|         0|         47.0|            1.0|           E|                2013-06-13|                    25000.0|                            NULL|                             NULL|\n",
      "|Yidcclx4OWF5XHg5N...|               Owner|       9.0|          RENT|  160000.0|             0.0|    Source Verified|   996xx|        AK|     2199.0|    13192.0| 246153| Fully Paid|    30000.0|   AK|      30000.0| 60 months|  0.1884|   25|2015-03-15|     false|Individual|    small_business|            Business|                 0|                  1|                      0|                 0|                           0|                                  1|                               0|             0|              0|              0|         0|         47.0|            7.0|           E|                2015-03-15|                    15000.0|                      2013-06-13|                          23000.0|\n",
      "|YidjLlx4ODRceGZjX...|Tribal Administrator|      10.0|           OWN|  100000.0|             0.0|       Not Verified|   997xx|        AK|     4791.0|   100614.0| 104094|    Current|    10000.0|   AK|      10000.0| 60 months|  0.2449|   25|2016-08-16|     false|INDIVIDUAL|             other|               Other|                 1|                  0|                      0|                 0|                           0|                                  0|                               1|             0|              1|              0|         0|         47.0|            3.0|           E|                2016-08-16|                    12600.0|                      2015-03-15|                          30000.0|\n",
      "|YidceDFkXHhjMFx4Z...|   Business Director|       1.0|      MORTGAGE|   65000.0|             0.0|       Not Verified|   998xx|        AK|    40693.0|   447627.0| 159108|Charged Off|    15000.0|   AK|      15000.0| 60 months|  0.2869|   29|2017-01-17|     false|Individual|debt_consolidation|  Debt consolidation|                 0|                  0|                      1|                 0|                           0|                                  0|                               1|             0|              0|              0|         0|         47.0|            0.0|           F|                2017-01-17|                    12000.0|                            NULL|                             NULL|\n",
      "|YicpXHJ0XHhkNUdce...| TARPING SYSTEMS INC|       3.0|      MORTGAGE|   35000.0|             0.0|       Not Verified|   363xx|        AL|    26674.0|   160041.0|    314| Fully Paid|     1000.0|   AL|       1000.0| 36 months|  0.1114|    8|2012-11-12|     false|INDIVIDUAL|    major_purchase|      Major purchase|                 0|                  0|                      1|                 0|                           0|                                  0|                               1|             0|              1|              0|         0|         24.0|            4.0|           B|                2012-11-12|                     4800.0|                            NULL|                             NULL|\n",
      "|YidceDFkTlx4ZGVce...|georgia fence who...|      10.0|      MORTGAGE|   40000.0|             0.0|           Verified|   368xx|        AL|    16891.0|    67562.0| 175423| Fully Paid|    17625.0|   AL|      17625.0| 36 months|  0.1409|   10|2013-01-13|     false|INDIVIDUAL|debt_consolidation|  Debt consolidation|                 0|                  0|                      1|                 0|                           1|                                  0|                               0|             0|              1|              0|         0|         24.0|            0.0|           B|                2013-01-13|                    10000.0|                      2012-11-12|                           1000.0|\n",
      "|YidceGViXHg4ZVVLM...|   HIH International|       3.0|      MORTGAGE|   65000.0|             0.0|       Not Verified|   350xx|        AL|     2007.0|    10033.0|  78466|Charged Off|     9500.0|   AL|       9500.0| 36 months|  0.1311|    6|2013-01-13|     false|INDIVIDUAL|debt_consolidation|           Good Year|                 0|                  0|                      1|                 0|                           0|                                  0|                               1|             0|              1|              0|         0|         24.0|            0.0|           B|                2013-01-13|                    18125.0|                      2013-01-13|                          17625.0|\n",
      "+--------------------+--------------------+----------+--------------+----------+----------------+-------------------+--------+----------+-----------+-----------+-------+-----------+-----------+-----+-------------+----------+--------+-----+----------+----------+----------+------------------+--------------------+------------------+-------------------+-----------------------+------------------+----------------------------+-----------------------------------+--------------------------------+--------------+---------------+---------------+----------+-------------+---------------+------------+--------------------------+---------------------------+--------------------------------+---------------------------------+\n",
      "only showing top 20 rows\n",
      "\n"
     ]
    },
    {
     "name": "stderr",
     "output_type": "stream",
     "text": [
      "                                                                                \r"
     ]
    }
   ],
   "source": [
    "df_feat_eng.show()"
   ]
  },
  {
   "cell_type": "code",
   "execution_count": 99,
   "metadata": {},
   "outputs": [
    {
     "name": "stderr",
     "output_type": "stream",
     "text": [
      "                                                                                \r"
     ]
    }
   ],
   "source": [
    "df_final = df_feat_eng\n",
    "output_path = \"data/fintech_data_MET_P2_52_0324_clean.parquet\"\n",
    "df_final.coalesce(1).write.mode(\"overwrite\").parquet(output_path)"
   ]
  },
  {
   "cell_type": "markdown",
   "metadata": {},
   "source": []
  },
  {
   "cell_type": "code",
   "execution_count": 100,
   "metadata": {},
   "outputs": [
    {
     "name": "stderr",
     "output_type": "stream",
     "text": [
      "                                                                                \r"
     ]
    },
    {
     "name": "stdout",
     "output_type": "stream",
     "text": [
      "Data successfully saved to table 'fintech_data'.\n",
      "Data successfully saved to table 'lookup'.\n"
     ]
    }
   ],
   "source": [
    "import pandas as pd\n",
    "from sqlalchemy import create_engine\n",
    "\n",
    "# Database configuration based on your Docker setup\n",
    "DB_HOST = \"localhost\"\n",
    "DB_PORT = \"5432\"  \n",
    "DB_NAME = \"testdb\"\n",
    "DB_USER = \"root\"\n",
    "DB_PASSWORD = \"root\"\n",
    "\n",
    "# Connection URI for SQLAlchemy\n",
    "DATABASE_URI = f\"postgresql://{DB_USER}:{DB_PASSWORD}@{DB_HOST}:{DB_PORT}/{DB_NAME}\"\n",
    "\n",
    "# Initialize the database connection using SQLAlchemy engine\n",
    "engine = create_engine(DATABASE_URI)\n",
    "\n",
    "\n",
    "def save_to_database(df, table_name=\"fintech_data\"):\n",
    "    try:\n",
    "        if(engine.connect()):\n",
    "            df.to_sql(table_name, engine, if_exists='replace', index=False)\n",
    "            print(f\"Data successfully saved to table '{table_name}'.\")\n",
    "        else:\n",
    "            print(\"Error: Could not establish connection to the database\")\n",
    "    except Exception as e:\n",
    "        print(f\"Error saving data to database: {e}\")\n",
    "        \n",
    "save_to_database(df_final.toPandas(), table_name=\"fintech_data\")\n",
    "save_to_database(df_lookup.toPandas(), table_name=\"lookup\")        \n",
    "        "
   ]
  },
  {
   "cell_type": "code",
   "execution_count": null,
   "metadata": {},
   "outputs": [],
   "source": []
  }
 ],
 "metadata": {
  "kernelspec": {
   "display_name": "Python 3 (ipykernel)",
   "language": "python",
   "name": "python3"
  },
  "language_info": {
   "codemirror_mode": {
    "name": "ipython",
    "version": 3
   },
   "file_extension": ".py",
   "mimetype": "text/x-python",
   "name": "python",
   "nbconvert_exporter": "python",
   "pygments_lexer": "ipython3",
   "version": "3.12.3"
  }
 },
 "nbformat": 4,
 "nbformat_minor": 4
}
